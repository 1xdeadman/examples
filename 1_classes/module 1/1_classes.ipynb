{
 "cells": [
  {
   "cell_type": "code",
   "execution_count": null,
   "metadata": {},
   "outputs": [],
   "source": [
    "\"\"\"\n",
    "конструкторы/деструкторы\n",
    "Мы можем определить специальные методы,\n",
    "которые будут вызываться каждый раз при создании/удалении объекта.\n",
    "Конструктор создается как метод с именем __init__\n",
    "Деструктор - как метод с названием __del__\n",
    "\"\"\""
   ]
  },
  {
   "cell_type": "code",
   "execution_count": null,
   "metadata": {},
   "outputs": [],
   "source": [
    "class ConstructionCls:\n",
    "\n",
    "    def __init__(self):\n",
    "        \"\"\"\n",
    "        вызывается в момент создания объекта класса.\n",
    "        Мы можем создавать конструкторы с произвольным количеством параметров:\n",
    "        def __init__(self, param_1, random_param_1):\n",
    "            pass\n",
    "        но тогда при создании объекта необходимо передавать аргументы\n",
    "        в его конструктор:\n",
    "        rand_name_1 = ConstructionCls(\"text\", 123)\n",
    "        \"\"\"\n",
    "        print(\"----:\", \"construction\")\n",
    "        # мы можем определить атрибут класса прямо в конструкторе\n",
    "        self.random_attr_1 = 123\n",
    "\n",
    "    def __del__(self):\n",
    "        \"\"\"\n",
    "        вызывается в момент уничтожения объекта класса.\n",
    "        Объект класса уничтожается в тот момент, когда объект класса более\n",
    "        недостижим из кода программы.\n",
    "        \"\"\"\n",
    "        print(\"----:\", \"destructor\")"
   ]
  },
  {
   "cell_type": "code",
   "execution_count": null,
   "metadata": {},
   "outputs": [],
   "source": [
    "def easy():\n",
    "    rand_name_1 = ConstructionCls()\n",
    "    print(\"kek\")\n",
    "    # print(rand_name_1.random_attr_1)"
   ]
  },
  {
   "cell_type": "code",
   "execution_count": null,
   "metadata": {},
   "outputs": [],
   "source": [
    "def normal():\n",
    "    rand_name_1 = ConstructionCls()\n",
    "    del rand_name_1  # удалим ссылку на объект\n",
    "    print(\"kek\")"
   ]
  },
  {
   "cell_type": "code",
   "execution_count": null,
   "metadata": {},
   "outputs": [],
   "source": [
    "def hard():\n",
    "    rand_name_1 = ConstructionCls()\n",
    "    rand_name_2 = rand_name_1\n",
    "    del rand_name_1\n",
    "    # del rand_name_2\n",
    "    print(\"random text\")\n",
    "    # print(rand_name_2.random_attr_1)"
   ]
  },
  {
   "cell_type": "code",
   "execution_count": null,
   "metadata": {},
   "outputs": [],
   "source": [
    "def decor(text, func):\n",
    "    print(\"\\n\" + text)\n",
    "    print(\"###before###\")\n",
    "    func()\n",
    "    print(\"###after###\")"
   ]
  },
  {
   "cell_type": "code",
   "execution_count": null,
   "metadata": {},
   "outputs": [],
   "source": [
    "decor(\"easy\", easy)\n",
    "decor(\"normal\", normal)\n",
    "decor(\"hard\", hard)"
   ]
  }
 ],
 "metadata": {
  "kernelspec": {
   "display_name": "Python 3",
   "language": "python",
   "name": "python3"
  },
  "language_info": {
   "codemirror_mode": {
    "name": "ipython",
    "version": 3
   },
   "file_extension": ".py",
   "mimetype": "text/x-python",
   "name": "python",
   "nbconvert_exporter": "python",
   "pygments_lexer": "ipython3",
   "version": "3.8.5"
  }
 },
 "nbformat": 4,
 "nbformat_minor": 4
}
