{
 "cells": [
  {
   "cell_type": "code",
   "execution_count": null,
   "metadata": {},
   "outputs": [],
   "source": [
    "# learning python, 5th edition, chapter 14\n",
    "# https://docs.python.org/3/tutorial/classes.html#iterators\n",
    "# https://habr.com/ru/post/337314/\n",
    "# https://docs.python.org/3/library/collections.abc.html"
   ]
  },
  {
   "cell_type": "code",
   "execution_count": null,
   "metadata": {},
   "outputs": [],
   "source": [
    "from collections.abc import Iterable, Iterator"
   ]
  },
  {
   "cell_type": "code",
   "execution_count": null,
   "metadata": {},
   "outputs": [],
   "source": [
    "string = \"abc\"\n",
    "print(\"for loop:\")\n",
    "for symbol in enumerate(string):\n",
    "    print(symbol)"
   ]
  },
  {
   "cell_type": "code",
   "execution_count": null,
   "metadata": {},
   "outputs": [],
   "source": [
    "iterator1 = iter(string)  # string.__iter__()\n",
    "iterator2 = iter(string)\n",
    "print(\"iterator1:\", iterator1)\n",
    "print(\"iterator2:\", iterator2)\n",
    "print(\"next(1):\", next(iterator1))  # iterator1.__next__()\n",
    "print(\"next(1):\", next(iterator1))\n",
    "print(\"next(2):\", next(iterator2))\n",
    "print(\"next(2):\", next(iterator2))\n",
    "print(\"next(2):\", next(iterator2))\n",
    "print(\"next(1):\", next(iterator1))"
   ]
  },
  {
   "cell_type": "code",
   "execution_count": null,
   "metadata": {},
   "outputs": [],
   "source": [
    "class MyData(Iterator, Iterable):\n",
    "    def __init__(self, data):\n",
    "        self._data = data\n",
    "        self._index = -1\n",
    "\n",
    "    def __iter__(self):\n",
    "        return MyClassEvenIndexIterator(self._data)  # self\n",
    "\n",
    "    def __next__(self):\n",
    "        if self._index + 1 == len(self._data):\n",
    "            self._index = -1\n",
    "            raise StopIteration\n",
    "        self._index = self._index + 1\n",
    "        return self._data[self._index]\n",
    "\n",
    "    def __getitem__(self, index):\n",
    "        return self._data[index]\n",
    "\n",
    "    def __setitem__(self, index, value):\n",
    "        self._data[index] = value"
   ]
  },
  {
   "cell_type": "code",
   "execution_count": null,
   "metadata": {},
   "outputs": [],
   "source": [
    "class MyClassEvenIndexIterator(Iterator):\n",
    "    def __init__(self, data):\n",
    "        self._data = data\n",
    "        self._index = -1\n",
    "\n",
    "    def __next__(self):\n",
    "        if self._index + 1 == len(self._data):\n",
    "            self._index = -1\n",
    "            raise StopIteration\n",
    "        self._index = self._index + 1\n",
    "        return self._data[self._index]"
   ]
  },
  {
   "cell_type": "code",
   "execution_count": null,
   "metadata": {},
   "outputs": [],
   "source": [
    "data = MyData([1, 2, 3, 4, 10, 20, 30, 40])\n",
    "\n",
    "for elem in data:\n",
    "    print(elem)\n",
    "for elem in data:\n",
    "    print(elem)\n",
    "\n",
    "iterator = iter(data)\n",
    "data[0] = 1010\n",
    "print(next(iterator))"
   ]
  }
 ],
 "metadata": {
  "kernelspec": {
   "display_name": "Python 3",
   "language": "python",
   "name": "python3"
  },
  "language_info": {
   "codemirror_mode": {
    "name": "ipython",
    "version": 3
   },
   "file_extension": ".py",
   "mimetype": "text/x-python",
   "name": "python",
   "nbconvert_exporter": "python",
   "pygments_lexer": "ipython3",
   "version": "3.8.5"
  }
 },
 "nbformat": 4,
 "nbformat_minor": 4
}
