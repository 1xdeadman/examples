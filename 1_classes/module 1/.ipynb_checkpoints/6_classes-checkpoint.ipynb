{
 "cells": [
  {
   "cell_type": "code",
   "execution_count": null,
   "metadata": {},
   "outputs": [],
   "source": [
    "\"\"\"\n",
    "полиморфизм\n",
    "\"\"\""
   ]
  },
  {
   "cell_type": "code",
   "execution_count": null,
   "metadata": {},
   "outputs": [],
   "source": [
    "class Animal:\n",
    "    def __init__(self, sound):\n",
    "        self.sound = sound\n",
    "\n",
    "    def Sound(self):\n",
    "        print(\"animal sound:\", self.sound)"
   ]
  },
  {
   "cell_type": "code",
   "execution_count": null,
   "metadata": {},
   "outputs": [],
   "source": [
    "class Dog(Animal):\n",
    "    def __init__(self, sound, command):\n",
    "        Animal.__init__(self, sound)\n",
    "        self.command = command\n",
    "\n",
    "    def Sound(self):\n",
    "        Animal.Sound(self)\n",
    "        print(\"command:\", self.command)"
   ]
  },
  {
   "cell_type": "code",
   "execution_count": null,
   "metadata": {},
   "outputs": [],
   "source": [
    "class Cat(Animal):\n",
    "    def __init__(self, sound, puf):\n",
    "        Animal.__init__(self, sound)\n",
    "        self.puf = puf\n",
    "\n",
    "    def Sound(self):\n",
    "        print(\"puf\", self.puf)"
   ]
  },
  {
   "cell_type": "code",
   "execution_count": null,
   "metadata": {},
   "outputs": [],
   "source": [
    "nimals = [\n",
    "    Animal(\"123\"),\n",
    "    Dog(\"Bark\", \"sit down\"),\n",
    "    Cat(\"meow\", \"puf!!\")\n",
    "]"
   ]
  },
  {
   "cell_type": "code",
   "execution_count": null,
   "metadata": {},
   "outputs": [],
   "source": [
    "'''\n",
    "for animal in animals:\n",
    "    animal.Sound()\n",
    "    print()\n",
    "'''"
   ]
  },
  {
   "cell_type": "code",
   "execution_count": null,
   "metadata": {},
   "outputs": [],
   "source": [
    "for animal in animals:\n",
    "    if isinstance(animal, Animal):\n",
    "        print(\"sound:\", animal.sound)\n",
    "    elif isinstance(animal, Dog):\n",
    "        print(\"command:\", animal.command)\n",
    "    elif isinstance(animal, Cat):\n",
    "        print(\"puf:\", animal.puf)\n",
    "    else:\n",
    "        print(\"def sound:\", animal.sound)\n",
    "    print()"
   ]
  }
 ],
 "metadata": {
  "kernelspec": {
   "display_name": "Python 3",
   "language": "python",
   "name": "python3"
  },
  "language_info": {
   "codemirror_mode": {
    "name": "ipython",
    "version": 3
   },
   "file_extension": ".py",
   "mimetype": "text/x-python",
   "name": "python",
   "nbconvert_exporter": "python",
   "pygments_lexer": "ipython3",
   "version": "3.8.5"
  }
 },
 "nbformat": 4,
 "nbformat_minor": 4
}
