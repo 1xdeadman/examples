{
 "cells": [
  {
   "cell_type": "code",
   "execution_count": null,
   "metadata": {},
   "outputs": [],
   "source": [
    "# публичные и непубличные атрибуты\n",
    "# свойства и сеттеры"
   ]
  },
  {
   "cell_type": "code",
   "execution_count": null,
   "metadata": {},
   "outputs": [],
   "source": [
    "class MyClass:\n",
    "    def __init__(self):\n",
    "        self.pub_attr = 123\n",
    "        # 'скрываем' атрибут извне этого класса и его потомков\n",
    "        self.__val = 1\n",
    "        # 'скрываем' атрибут извне этого класса. Все еще доступны.\n",
    "        self._val = 2\n",
    "\n",
    "    def set_method(self, new_val):\n",
    "        if type(new_val) is int:\n",
    "            self.__val = new_val\n",
    "\n",
    "    def get_method(self):\n",
    "        return self.__val\n",
    "\n",
    "    @property\n",
    "    def val(self):\n",
    "        \"\"\"\n",
    "        реализуем свойство для получения значения из объекта\n",
    "        \"\"\"\n",
    "        return self.__val\n",
    "\n",
    "    @val.setter\n",
    "    def val(self, new_val):\n",
    "        \"\"\"\n",
    "        реализуем сеттер для записи значения в объекта\n",
    "        \"\"\"\n",
    "        if type(new_val) is int:\n",
    "            self.__val = new_val\n",
    "        else:\n",
    "            print(\"Недопустимый тип\")"
   ]
  },
  {
   "cell_type": "code",
   "execution_count": null,
   "metadata": {},
   "outputs": [],
   "source": [
    "rnd = MyClass()\n",
    "rnd.set_method(1)\n",
    "rnd.get_method()"
   ]
  },
  {
   "cell_type": "code",
   "execution_count": null,
   "metadata": {},
   "outputs": [],
   "source": [
    "obj = MyClass()"
   ]
  },
  {
   "cell_type": "code",
   "execution_count": null,
   "metadata": {},
   "outputs": [],
   "source": [
    "obj.val = \"qwe\"\n",
    "obj.val = 22\n",
    "print(obj.val)"
   ]
  },
  {
   "cell_type": "code",
   "execution_count": null,
   "metadata": {},
   "outputs": [],
   "source": [
    "\"\"\"в python нет модификаторов доступа в привычном для c++, C#, Java и\n",
    "других языков смысле. Здесь они скорее соглашения между разработчиками,\n",
    "что эти данные ограничены для использования. Однако мы все еще можем их\n",
    "использовать!\n",
    "\"\"\"\n",
    "print(obj.pub_attr)\n",
    "print(obj._MyClass__val)\n",
    "print(obj._val)"
   ]
  }
 ],
 "metadata": {
  "kernelspec": {
   "display_name": "Python 3",
   "language": "python",
   "name": "python3"
  },
  "language_info": {
   "codemirror_mode": {
    "name": "ipython",
    "version": 3
   },
   "file_extension": ".py",
   "mimetype": "text/x-python",
   "name": "python",
   "nbconvert_exporter": "python",
   "pygments_lexer": "ipython3",
   "version": "3.8.5"
  }
 },
 "nbformat": 4,
 "nbformat_minor": 4
}
