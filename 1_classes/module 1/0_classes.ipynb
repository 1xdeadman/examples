{
 "cells": [
  {
   "cell_type": "code",
   "execution_count": null,
   "metadata": {},
   "outputs": [],
   "source": [
    "# https://docs.python.org/3/tutorial/classes.html\n"
   ]
  },
  {
   "cell_type": "code",
   "execution_count": null,
   "metadata": {},
   "outputs": [],
   "source": [
    "\"\"\"\n",
    "Мы можем создавать свои собственные типы объектов, навываемые классами.\n",
    "Класс - структура данных, формальное описание того,\n",
    "так объект должен хранить и обрабатывать данные.\n",
    "Объект класса - отдельный объект, который следует правилам класса.\n",
    "Например: класс - это общее представление компьютера,\n",
    "а объект класса - это конкретно ваш компьютер.\n",
    "\n",
    "В python функции, находящиеся в классе, называются методами, а переменные,\n",
    "так же входящие в класс - атрибутами.\n",
    "\n",
    "Мы можем создать для класса:\n",
    " - собственные методы,\n",
    " - атрибуты,\n",
    " - переопределить операнды, н-р =,+,-,*,/, чтобы сообщить интерпретатору,\n",
    "   как ему следует выполнять подобные операции с объектами класса.\n",
    "\"\"\"\n",
    "\n",
    "\n",
    "\"\"\"\n",
    "создание класса\n"
   ]
  },
  {
   "cell_type": "code",
   "execution_count": null,
   "metadata": {},
   "outputs": [],
   "source": [
    "\"\"\"\n",
    "создание класса\n",
    "\"\"\"\n",
    "class my_random_class_name:\n",
    "    # определим аттрибут класса и его дефолтное значение\n",
    "    random_class_attr_1 = \"attr data\"\n",
    "\n",
    "    def random_class_method_1(self):\n",
    "        \"\"\"\n",
    "        Метод класса. Мы должны во всех нестатических методах класса указывать\n",
    "        первым параметром self - ссылку на сам объект класса.\n",
    "        \"\"\"\n",
    "        print(\"----\", \"random_class_method_1\")\n",
    "        random_var = 321\n",
    "        # для работы с атрибутами объекта необходимо использовать self\n",
    "        self.random_inst_attr_1 = 123 + random_var\n",
    "        print(self.random_class_attr_1)\n",
    "\n",
    "    def set_random_class_attr_1(self, rand_param_name):\n",
    "        print(\"----\", \"random_class_method_2\")\n",
    "        self.random_inst_attr_1 = rand_param_name"
   ]
  },
  {
   "cell_type": "code",
   "execution_count": null,
   "metadata": {},
   "outputs": [],
   "source": [
    "# создадим объект класса\n",
    "random_cls_obj_name_1 = my_random_class_name()\n",
    "print(\"---- before:\", random_cls_obj_name_1.random_class_attr_1)\n",
    "random_cls_obj_name_1.random_class_method_1()\n",
    "print(\"---- after:\", random_cls_obj_name_1.random_class_attr_1)"
   ]
  },
  {
   "cell_type": "code",
   "execution_count": null,
   "metadata": {},
   "outputs": [],
   "source": [
    "# мы можем создать сколько угодно объектов нашего класса,\n",
    "# и каждый из них будет хранить свои собственные данные\n",
    "random_cls_obj_name_2 = my_random_class_name()\n",
    "random_cls_obj_name_1.random_class_attr_1 = 123"
   ]
  },
  {
   "cell_type": "code",
   "execution_count": null,
   "metadata": {},
   "outputs": [],
   "source": [
    "print(\"\\n---- without ref:\", random_cls_obj_name_1.random_class_attr_1,\n",
    "      \"!=\", random_cls_obj_name_2.random_class_attr_1)\n",
    "# однако, если сделать так:\n",
    "random_cls_obj_name_2 = random_cls_obj_name_1\n",
    "# то random_cls_obj_name_2 будет ссылаться на те же данные,\n",
    "# что и random_cls_obj_name_1\n",
    "print(\"---- before:\", random_cls_obj_name_2.random_class_attr_1)\n",
    "random_cls_obj_name_1.random_class_attr_1 = \"puf\"\n",
    "print(\"---- after:\", random_cls_obj_name_2.random_class_attr_1)"
   ]
  },
  {
   "cell_type": "code",
   "execution_count": null,
   "metadata": {},
   "outputs": [],
   "source": [
    "# каждая переменная - это ссылка на объект, хранящийся в памяти. Нет разницы,\n",
    "# одна у нас переменная ссылается на объект, или несколько.\n",
    "# Для удаления ссылки на объект применяется del\n",
    "del random_cls_obj_name_1"
   ]
  },
  {
   "cell_type": "code",
   "execution_count": null,
   "metadata": {},
   "outputs": [],
   "source": [
    "# на самом деле, в python можно сделать так:\n",
    "random_cls_obj_name_1 = my_random_class_name()\n",
    "# добавим аттрибут, которого раньше не было у класса\n",
    "random_cls_obj_name_1.new_attr = 123\n",
    "print(\"\\nnew_attr:\", random_cls_obj_name_1.new_attr)"
   ]
  }
 ],
 "metadata": {
  "kernelspec": {
   "display_name": "Python 3",
   "language": "python",
   "name": "python3"
  },
  "language_info": {
   "codemirror_mode": {
    "name": "ipython",
    "version": 3
   },
   "file_extension": ".py",
   "mimetype": "text/x-python",
   "name": "python",
   "nbconvert_exporter": "python",
   "pygments_lexer": "ipython3",
   "version": "3.8.5"
  }
 },
 "nbformat": 4,
 "nbformat_minor": 4
}
