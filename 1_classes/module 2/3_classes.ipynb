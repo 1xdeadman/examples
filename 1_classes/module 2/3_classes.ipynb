{
 "cells": [
  {
   "cell_type": "code",
   "execution_count": null,
   "metadata": {},
   "outputs": [],
   "source": [
    "\"\"\"\n",
    "перегрузка операторов.\n",
    "Для каждого класса можно перегрузить отдельный оператор.\n",
    "Например, можно определить реультат выполнения сложения экземпляра\n",
    "вашего класса с другим экземпляром. Или вычитания. Или сравнения. И так далее.\n",
    "Другим экземпляром может быть как экземпляр этого класса, так и другого.\n",
    "\"\"\""
   ]
  },
  {
   "cell_type": "code",
   "execution_count": null,
   "metadata": {},
   "outputs": [],
   "source": [
    "class MyClass:\n",
    "    def __init__(self, value=0):\n",
    "        self.data = value\n",
    "\n",
    "    def __add__(self, other):\n",
    "        # 123 + 321\n",
    "        # MyClass + X\n",
    "        return MyClass(self.data + other.data)\n",
    "\n",
    "    def __sub__(self, other):\n",
    "        # MyClass - X\n",
    "        return MyClass(self.data - other.data)\n",
    "\n",
    "    def __mul__(self, other):\n",
    "        # MyClass * X\n",
    "        return MyClass(self.data * other.data)\n",
    "\n",
    "    def __truediv__(self, other):\n",
    "        # MyClass / X\n",
    "        return MyClass(self.data / other.data)\n",
    "\n",
    "    def __floordiv__(self, other):\n",
    "        # MyClass // X\n",
    "        return MyClass(self.data // other.data)\n",
    "\n",
    "    def __mod__(self, other):\n",
    "        return MyClass(self.data % other.data)\n",
    "\n",
    "    def __str__(self):\n",
    "        # str(MyClass)\n",
    "        return '[MyClass: {0}]'.format(self.data)\n",
    "\n",
    "    def __lt__(self, other):\n",
    "        # MyClass < X\n",
    "        return self.data < other.data"
   ]
  },
  {
   "cell_type": "code",
   "execution_count": null,
   "metadata": {},
   "outputs": [],
   "source": [
    "rand_1 = MyClass(2)\n",
    "rand_2 = MyClass(4)\n",
    "rand_3 = rand_1 / rand_2\n",
    "\n",
    "print(rand_3)\n",
    "print(rand_1 < rand_2)"
   ]
  }
 ],
 "metadata": {
  "kernelspec": {
   "display_name": "Python 3",
   "language": "python",
   "name": "python3"
  },
  "language_info": {
   "codemirror_mode": {
    "name": "ipython",
    "version": 3
   },
   "file_extension": ".py",
   "mimetype": "text/x-python",
   "name": "python",
   "nbconvert_exporter": "python",
   "pygments_lexer": "ipython3",
   "version": "3.8.5"
  }
 },
 "nbformat": 4,
 "nbformat_minor": 4
}
