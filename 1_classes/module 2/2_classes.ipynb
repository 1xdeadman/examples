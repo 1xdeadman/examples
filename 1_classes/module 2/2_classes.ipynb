{
 "cells": [
  {
   "cell_type": "code",
   "execution_count": null,
   "metadata": {},
   "outputs": [],
   "source": [
    "\"\"\"\n",
    "важное уточнение - есть два типа атрибутов:\n",
    "1) атрибуты класса\n",
    "2) атрибуты объекта\n",
    "Атрибуты класса изначально разделяются между всеми объектами класса.\n",
    "Атрибуты объекта изначально уникальны для каждого из объектов класса.\n",
    "\n",
    "Вспомним про списки:\n",
    "\"\"\""
   ]
  },
  {
   "cell_type": "code",
   "execution_count": null,
   "metadata": {},
   "outputs": [],
   "source": [
    "class my_random_class:\n",
    "    class_attr_1 = []  # атрибут класса\n",
    "\n",
    "    def __init__(self):\n",
    "        self.random_inst_attr_1 = []  # атрибут объекта\n"
   ]
  },
  {
   "cell_type": "code",
   "execution_count": null,
   "metadata": {},
   "outputs": [],
   "source": [
    "# создадим два объекта класса\n",
    "obj1 = my_random_class()\n",
    "obj2 = my_random_class()"
   ]
  },
  {
   "cell_type": "code",
   "execution_count": null,
   "metadata": {},
   "outputs": [],
   "source": [
    "# изменим значения в первом\n",
    "obj1.class_attr_1.append(1)\n",
    "obj1.random_inst_attr_1.append(1)"
   ]
  },
  {
   "cell_type": "code",
   "execution_count": null,
   "metadata": {},
   "outputs": [],
   "source": [
    "# выведем значения второго\n",
    "print(obj2.class_attr_1)  # [1]\n",
    "print(obj2.random_inst_attr_1)  # []"
   ]
  },
  {
   "cell_type": "code",
   "execution_count": null,
   "metadata": {},
   "outputs": [],
   "source": [
    "# однако если атрибуту class_attr_1 первого\n",
    "# объекта присвоить новый список:\n",
    "obj1.class_attr_1 = [1, 2, 3]\n",
    "obj1.class_attr_1.append(4)"
   ]
  },
  {
   "cell_type": "code",
   "execution_count": null,
   "metadata": {},
   "outputs": [],
   "source": [
    "# снова выведем значения второго\n",
    "print(obj2.class_attr_1)  # все еще [1]"
   ]
  }
 ],
 "metadata": {
  "kernelspec": {
   "display_name": "Python 3",
   "language": "python",
   "name": "python3"
  },
  "language_info": {
   "codemirror_mode": {
    "name": "ipython",
    "version": 3
   },
   "file_extension": ".py",
   "mimetype": "text/x-python",
   "name": "python",
   "nbconvert_exporter": "python",
   "pygments_lexer": "ipython3",
   "version": "3.8.5"
  }
 },
 "nbformat": 4,
 "nbformat_minor": 4
}
