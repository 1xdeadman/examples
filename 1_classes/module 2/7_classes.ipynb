{
 "cells": [
  {
   "cell_type": "code",
   "execution_count": null,
   "metadata": {},
   "outputs": [],
   "source": [
    "# instance/static/class methods"
   ]
  },
  {
   "cell_type": "code",
   "execution_count": null,
   "metadata": {},
   "outputs": [],
   "source": [
    "class MyClass:\n",
    "    def __init__(self, x=100):\n",
    "        if isinstance(x, int):\n",
    "            self.x = x\n",
    "\n",
    "    def imeth(self, x):\n",
    "        print(\"instance:\", [self, x])\n",
    "\n",
    "    @staticmethod\n",
    "    def smeth(x):\n",
    "        print(\"static:\", [x])\n",
    "        if isinstance(x, str):\n",
    "            try:\n",
    "                x = int(x)\n",
    "                return MyClass(x)\n",
    "            except Exception as ex:\n",
    "                print(ex)\n",
    "        else:\n",
    "            raise TypeError(\"x must be str\")\n",
    "\n",
    "    @classmethod\n",
    "    def cmeth(cls, x):\n",
    "        print(\"class:\", [cls, x])\n",
    "        if isinstance(x, str):\n",
    "            try:\n",
    "                x = int(x)\n",
    "                return cls(x)\n",
    "            except Exception as ex:\n",
    "                print(ex)\n",
    "        else:\n",
    "            raise TypeError(\"x must be str\")"
   ]
  },
  {
   "cell_type": "code",
   "execution_count": null,
   "metadata": {},
   "outputs": [],
   "source": [
    "instance = MyClass()\n",
    "instance.imeth(12)\n",
    "instance.smeth(\"11\")\n",
    "instance.cmeth(\"13\")"
   ]
  },
  {
   "cell_type": "code",
   "execution_count": null,
   "metadata": {},
   "outputs": [],
   "source": [
    "MyClass.imeth(instance, 1)\n",
    "MyClass.smeth(\"3\")\n",
    "MyClass.cmeth(\"2\")"
   ]
  },
  {
   "cell_type": "code",
   "execution_count": null,
   "metadata": {},
   "outputs": [],
   "source": [
    "class SubClass(MyClass):\n",
    "    pass"
   ]
  },
  {
   "cell_type": "code",
   "execution_count": null,
   "metadata": {},
   "outputs": [],
   "source": [
    "print(\"\\nSubClass\")\n",
    "print(\"static method:\", SubClass.smeth(\"123\"))\n",
    "print(\"class method:\", SubClass.cmeth(\"123\"))"
   ]
  }
 ],
 "metadata": {
  "kernelspec": {
   "display_name": "Python 3",
   "language": "python",
   "name": "python3"
  },
  "language_info": {
   "codemirror_mode": {
    "name": "ipython",
    "version": 3
   },
   "file_extension": ".py",
   "mimetype": "text/x-python",
   "name": "python",
   "nbconvert_exporter": "python",
   "pygments_lexer": "ipython3",
   "version": "3.8.5"
  }
 },
 "nbformat": 4,
 "nbformat_minor": 4
}
