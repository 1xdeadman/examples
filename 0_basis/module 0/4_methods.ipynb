{
 "cells": [
  {
   "cell_type": "code",
   "execution_count": null,
   "metadata": {},
   "outputs": [],
   "source": [
    "https://docs.python.org/3/library/stdtypes.html\n",
    "https://pythonworld.ru/tipy-dannyx-v-python/chisla-int-float-complex.html\n",
    "https://pythonworld.ru/tipy-dannyx-v-python/stroki-funkcii-i-metody-strok.html\n",
    "https://metanit.com/python/tutorial/5.2.php"
   ]
  },
  {
   "cell_type": "code",
   "execution_count": null,
   "metadata": {},
   "outputs": [],
   "source": [
    "# Каждый объект имеет свои собственные методы, которые можно назвать функциями, привязанными к конкретному объекту.\n",
    "# Эти методы вызываются через символ . после имени объекта, и имеют доступ к внутреннему состоянию этого объекта."
   ]
  },
  {
   "cell_type": "code",
   "execution_count": null,
   "metadata": {},
   "outputs": [],
   "source": [
    "# int\n",
    "value = 1\n",
    "print(value.bit_length())  # число бит, используемых для для редставления числа,без знака и впередиидущих 0\n",
    "print(value.to_bytes(10, byteorder='big'))  # возвращает байтовое представление числа, записанное в 10 байт\n",
    "print(int.from_bytes(value.to_bytes(10, byteorder='big'), byteorder='big'))  # возвращает число из массива байт"
   ]
  },
  {
   "cell_type": "code",
   "execution_count": null,
   "metadata": {},
   "outputs": [],
   "source": [
    "# bool\n",
    "value = True\n",
    "print('bool:', value.bit_length())\n",
    "print('bool:', value.to_bytes(length=1, byteorder='big'))"
   ]
  },
  {
   "cell_type": "code",
   "execution_count": 1,
   "metadata": {},
   "outputs": [
    {
     "name": "stdout",
     "output_type": "stream",
     "text": [
      "lower:    text text text   \n",
      "upper:    TEXT TEXT TEXT   \n",
      "strip: ExT TeXt tExT\n",
      "split: ['   t', ' TeXt t', '   ']\n",
      "replace: |||tExT|TeXt|tExT|||\n"
     ]
    }
   ],
   "source": [
    "# str\n",
    "str_row = \"   tExT TeXt tExT   \"\n",
    "new_str = str_row.lower()\n",
    "print(\"lower:\", new_str)\n",
    "new_str = str_row.upper()\n",
    "print(\"upper:\", new_str)\n",
    "\n",
    "new_str = str_row.strip(\" t\")\n",
    "print(\"strip:\", new_str)\n",
    "new_str = str_row.split(\"ExT\")\n",
    "print(\"split:\", new_str)\n",
    "new_str = str_row.replace(\" \", \"|\")\n",
    "print(\"replace:\", new_str)"
   ]
  },
  {
   "cell_type": "code",
   "execution_count": 3,
   "metadata": {},
   "outputs": [
    {
     "name": "stdout",
     "output_type": "stream",
     "text": [
      "isspace: True\n",
      "isnumeric: True\n",
      "isalpha: True\n",
      "capitalize: Asdasd\n",
      "find: -1\n",
      "encode: b'asdasd'\n",
      "decode: asdasd\n"
     ]
    }
   ],
   "source": [
    "str_row = \"  \"\n",
    "print(\"isspace:\", str_row.isspace())\n",
    "str_row = \"12312312\"\n",
    "print(\"isnumeric:\", str_row.isnumeric())\n",
    "str_row = \"asdasd\"\n",
    "print(\"isalpha:\", str_row.isalpha())\n"
   ]
  },
  {
   "cell_type": "code",
   "execution_count": 4,
   "metadata": {},
   "outputs": [
    {
     "name": "stdout",
     "output_type": "stream",
     "text": [
      "capitalize: Asdasd12312312\n",
      "find: 6\n",
      "encode: b'asdasd12312312'\n",
      "decode: asdasd12312312\n"
     ]
    }
   ],
   "source": [
    "str_row = \"asdasd12312312\"\n",
    "print(\"capitalize:\", str_row.capitalize())\n",
    "print(\"find:\", str_row.find('123'))\n",
    "byte_row = str_row.encode(encoding='utf-8')\n",
    "print(\"encode:\", byte_row)\n",
    "print(\"decode:\", byte_row.decode(encoding='utf-8'))"
   ]
  },
  {
   "cell_type": "code",
   "execution_count": null,
   "metadata": {},
   "outputs": [],
   "source": []
  }
 ],
 "metadata": {
  "kernelspec": {
   "display_name": "Python 3",
   "language": "python",
   "name": "python3"
  },
  "language_info": {
   "codemirror_mode": {
    "name": "ipython",
    "version": 3
   },
   "file_extension": ".py",
   "mimetype": "text/x-python",
   "name": "python",
   "nbconvert_exporter": "python",
   "pygments_lexer": "ipython3",
   "version": "3.8.5"
  }
 },
 "nbformat": 4,
 "nbformat_minor": 4
}
