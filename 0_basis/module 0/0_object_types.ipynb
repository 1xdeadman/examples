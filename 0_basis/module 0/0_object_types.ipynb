{
 "cells": [
  {
   "cell_type": "code",
   "execution_count": null,
   "metadata": {},
   "outputs": [],
   "source": [
    "Дополнительная литература:\n",
    "1) https://docs.python.org/3/reference/datamodel.html, разделы 3.1, 3.2\n",
    "2) https://metanit.com/python/tutorial/2.2.php\n",
    "3) https://pythonworld.ru/"
   ]
  },
  {
   "cell_type": "code",
   "execution_count": null,
   "metadata": {},
   "outputs": [],
   "source": [
    "\"\"\"\n",
    "комментарии - текстовое описание внутри исходных файлов,\n",
    "которые не выполняются интерпретатором,\n",
    "а предназначены для описания кода.\n",
    "Несут вспомогательную функцию, многие ide\n",
    "используют специально оформленные коментарии для\n",
    "упрощения работы пользователя.\n",
    "Есть так же несколько дополнительных способов применения\n",
    "коментариев, их мы рассмотрим в последующих модулях.\n",
    "\"\"\"\n",
    "\n",
    "# однострочный комментарий\n",
    "'''\n",
    "многострочный\n",
    "комментарий\n",
    "'''"
   ]
  },
  {
   "cell_type": "code",
   "execution_count": null,
   "metadata": {},
   "outputs": [],
   "source": [
    "\"\"\"\n",
    "print(\"this is my message\") - специальная функция, выводящая\n",
    "текст, цифры и прочее в консоль.\n",
    "type(val_1) - специальная функция, возвращающая тип объекта,\n",
    "переданного в эту функцию.\n",
    "id(val_1) - специальная функция, возвращающая адрес в памяти, по которому хранится объект,\n",
    "на который ссылается переменная\n",
    "\n",
    "Функция - отдельный объект, блок кода, выполнящийся при вызове этой\n",
    "функции по имени из другой части кода.\n",
    "Можно провести аналогии с математическими функциями.\n",
    "Функция осуществляет какие-то действия, определенные внутри функции и\n",
    "возвращает результат своего выполнения.\n",
    "В функцию могут передаваться дополнительные значения, которые применяются\n",
    "внутри функции. Подробнее функции будут рассмотрены в отдельном модуле.\n",
    "\n",
    "print(1, 2, \"text\") - в функцию print можно передавать несколько аргументов,\n",
    "каждый из которых будет выведет в консоль через разделитель - в данном случае\n",
    "это символ пробела.\n",
    "Функция print после вывода по умолчанию осуществляет перенос каретки консоли на новую строку\n",
    "\"\"\""
   ]
  },
  {
   "cell_type": "markdown",
   "metadata": {},
   "source": [
    "# основные типы данные"
   ]
  },
  {
   "cell_type": "code",
   "execution_count": null,
   "metadata": {},
   "outputs": [],
   "source": [
    "# None\n",
    "val_1 = None\n",
    "print(val_1, \":\", type(val_1), \":\", id(val_1))"
   ]
  },
  {
   "cell_type": "markdown",
   "metadata": {},
   "source": [
    "### numbers"
   ]
  },
  {
   "cell_type": "code",
   "execution_count": null,
   "metadata": {},
   "outputs": [],
   "source": [
    "# int (целые числа)\n",
    "val_1 = 123\n",
    "print(val_1, \":\", type(val_1), \":\", id(val_1))"
   ]
  },
  {
   "cell_type": "code",
   "execution_count": null,
   "metadata": {},
   "outputs": [],
   "source": [
    "# float (числа с плавающей запятой)\n",
    "val_1 = 123123.1\n",
    "print(val_1, \":\", type(val_1), \":\", id(val_1))"
   ]
  },
  {
   "cell_type": "code",
   "execution_count": null,
   "metadata": {},
   "outputs": [],
   "source": [
    "# bool (булевые значения - True или False)\n",
    "val_1 = True\n",
    "print(val_1, \":\", type(val_1), \":\", id(val_1))"
   ]
  },
  {
   "cell_type": "markdown",
   "metadata": {},
   "source": [
    "### sequences"
   ]
  },
  {
   "cell_type": "code",
   "execution_count": null,
   "metadata": {},
   "outputs": [],
   "source": [
    "# string (текстовые строки)\n",
    "val_1 = \"this is text!!!111\"\n",
    "print(val_1, \":\", len(val_1), \":\", ord(val_1[0]), \":\", chr(116), \":\", type(val_1), \":\", id(val_1))"
   ]
  },
  {
   "cell_type": "code",
   "execution_count": null,
   "metadata": {},
   "outputs": [],
   "source": [
    "'''\n",
    "tuples (структура даннных, представляющая собой последовательный список\n",
    "из нескольких элементов). Кортеж не может быть изменен. Неизменяемая.\n",
    "Основные структуры данных будут подробнее рассмотрены в следующих модулях.\n",
    "'''\n",
    "val_1 = (1, 2, 3)\n",
    "print(val_1, \":\", len(val_1), \":\", type(val_1), \":\", id(val_1))"
   ]
  },
  {
   "cell_type": "code",
   "execution_count": null,
   "metadata": {},
   "outputs": [],
   "source": [
    "'''\n",
    "bytes (структура даннных, хранящая в себе последовательность байт). Неизменяемая.\n",
    "Основные структуры данных будут подробнее рассмотрены в следующих модулях.\n",
    "'''\n",
    "val_1 = b'abc'\n",
    "print(val_1, \":\", len(val_1), \":\", type(val_1), \":\", id(val_1))"
   ]
  },
  {
   "cell_type": "code",
   "execution_count": null,
   "metadata": {},
   "outputs": [],
   "source": [
    "'''\n",
    "list (структура даннных, представляющая собой последовательный список\n",
    "из нескольких элементов). Список может быть изменен. Изменяемая.\n",
    "Основные структуры данных будут подробнее рассмотрены в следующих модулях.\n",
    "'''\n",
    "val_1 = [1, 2, 3]\n",
    "print(val_1, \":\", len(val_1), \":\", type(val_1), \":\", id(val_1))"
   ]
  },
  {
   "cell_type": "code",
   "execution_count": null,
   "metadata": {},
   "outputs": [],
   "source": [
    "'''\n",
    "byte array (структура даннных, хранящая в себе последовательность байт). Изменяемая.\n",
    "Основные структуры данных будут подробнее рассмотрены в следующих модулях.\n",
    "'''\n",
    "val_1 = bytearray([1, 2, 3])\n",
    "print(val_1, \":\", len(val_1), \":\", type(val_1), \":\", id(val_1))"
   ]
  },
  {
   "cell_type": "markdown",
   "metadata": {},
   "source": [
    "### set"
   ]
  },
  {
   "cell_type": "code",
   "execution_count": null,
   "metadata": {},
   "outputs": [],
   "source": [
    "\"\"\"\n",
    "sets (Структура данных, предназначенная для хранения множеств) Изменяемая.\n",
    "Основные структуры данных будут подробнее рассмотрены в следующих модулях.\n",
    "\"\"\"\n",
    "val_1 = {1, 2, 3}\n",
    "print(val_1, \":\", len(val_1), \":\", type(val_1), \":\", id(val_1))"
   ]
  },
  {
   "cell_type": "code",
   "execution_count": null,
   "metadata": {},
   "outputs": [],
   "source": [
    "\"\"\"\n",
    "frozen sets (Структура данных, предназначенная для хранения множеств) Неизменяемая.\n",
    "Основные структуры данных будут подробнее рассмотрены в следующих модулях.\n",
    "\"\"\"\n",
    "val_1 = frozenset([1, 2, 3])\n",
    "print(val_1, \":\", len(val_1), \":\", type(val_1), \":\", id(val_1))"
   ]
  },
  {
   "cell_type": "markdown",
   "metadata": {},
   "source": [
    "### Mappings"
   ]
  },
  {
   "cell_type": "code",
   "execution_count": null,
   "metadata": {},
   "outputs": [],
   "source": [
    "\"\"\"\n",
    "dictionary (Структура данных, предназначенная для хранения значений по заданному ключу) Изменяемая.\n",
    "Основные структуры данных будут подробнее рассмотрены в следующих модулях.\n",
    "\"\"\"\n",
    "val_1 = {\"key\": \"value\"}\n",
    "print(val_1, \":\", len(val_1), \":\", type(val_1), \":\", id(val_1))"
   ]
  },
  {
   "cell_type": "markdown",
   "metadata": {},
   "source": [
    "### callable"
   ]
  },
  {
   "cell_type": "code",
   "execution_count": null,
   "metadata": {},
   "outputs": [],
   "source": [
    "def func():\n",
    "    '''\n",
    "    def - определение собственной функции. Функци подробно будем рассматривать позже.\n",
    "    Код внутри функции ОБЯЗАТЕЛЬНО пишется с отступом. Как только мы продолжим писать код на одном уровне с def - мы\n",
    "    прекратим писать код внутри этой функции.\n",
    "    Код в функция выполняется не сразу, а только когда эта функция будет вызвана в другой части кода по имени функции.\n",
    "    Например, данная функция будет вызвана, если написать func() после 71 строчки.\n",
    "    '''\n",
    "    pass  # пустая команда. Не делает ничего, нужна как заглушка.\n",
    "    ...  # Ellipsis\n",
    "\n",
    "print(func, \":\", type(func), \":\", id(val_1))"
   ]
  },
  {
   "cell_type": "code",
   "execution_count": null,
   "metadata": {},
   "outputs": [],
   "source": [
    "# для сознания объектов так же могут применяться соответствующие конструкторы объектов.\n",
    "sad = int()\n",
    "sad = int('123')\n",
    "sad = float()\n",
    "sad = float('123.55')\n",
    "sad = str()\n",
    "sad = str(123)\n",
    "sad = bool()\n",
    "sad = bool(0)\n",
    "sad = bytes()\n",
    "sad = list()\n",
    "sad = set()\n",
    "# etc..."
   ]
  },
  {
   "cell_type": "code",
   "execution_count": null,
   "metadata": {},
   "outputs": [],
   "source": [
    "\"\"\"\n",
    "Для ввода в программу данных через консоль используется функция input(). Данная функция ВСЕГДА возвращает строку,\n",
    "чтобы не ввел пользователь. В качестве аргумента передается текст, который необходимо вывести в консоли для пользователя.\n",
    "\"\"\"\n",
    "\n",
    "text = input()\n",
    "text = input(\"Введите текст:\")"
   ]
  }
 ],
 "metadata": {
  "kernelspec": {
   "display_name": "Python 3",
   "language": "python",
   "name": "python3"
  },
  "language_info": {
   "codemirror_mode": {
    "name": "ipython",
    "version": 3
   },
   "file_extension": ".py",
   "mimetype": "text/x-python",
   "name": "python",
   "nbconvert_exporter": "python",
   "pygments_lexer": "ipython3",
   "version": "3.8.5"
  }
 },
 "nbformat": 4,
 "nbformat_minor": 4
}
