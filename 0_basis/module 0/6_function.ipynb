{
 "cells": [
  {
   "cell_type": "code",
   "execution_count": null,
   "metadata": {},
   "outputs": [],
   "source": [
    "learning python, 5th edition, chapter 16\n",
    "https://docs.python.org/3/tutorial/controlflow.html#defining-functions\n",
    "https://docs.python.org/3/tutorial/controlflow.html#function-examples\n",
    "https://docs.python.org/3/tutorial/controlflow.html#function-annotations\n",
    "https://docs.python.org/3/reference/compound_stmts.html#function-definitions\n",
    "https://docs.python.org/3/tutorial/controlflow.html#lambda-expressions\n",
    "https://docs.python.org/3/reference/simple_stmts.html#the-nonlocal-statement\n",
    "https://docs.python.org/3/reference/simple_stmts.html#the-global-statement\n",
    "https://docs.python.org/3/reference/simple_stmts.html#the-return-statement\n",
    "https://pythonworld.ru/tipy-dannyx-v-python/vse-o-funkciyax-i-ix-argumentax.html"
   ]
  },
  {
   "cell_type": "code",
   "execution_count": 1,
   "metadata": {},
   "outputs": [
    {
     "name": "stdout",
     "output_type": "stream",
     "text": [
      "func_name()1\n",
      "as\n"
     ]
    }
   ],
   "source": [
    "def func_1(elem: int) -> str:\n",
    "    print('func_1()1')\n",
    "    return \"as\"\n",
    "\n",
    "\n",
    "print(func_1(1))"
   ]
  },
  {
   "cell_type": "code",
   "execution_count": 4,
   "metadata": {},
   "outputs": [
    {
     "name": "stdout",
     "output_type": "stream",
     "text": [
      "func_3\n",
      "1 идет на комиссию\n"
     ]
    }
   ],
   "source": [
    "def func_3(param_1):\n",
    "    print('func_3')\n",
    "    result = param_1 + ' идет на комиссию'\n",
    "    return result\n",
    "\n",
    "\n",
    "print(func_3(\"1\"))"
   ]
  },
  {
   "cell_type": "code",
   "execution_count": 8,
   "metadata": {},
   "outputs": [
    {
     "name": "stdout",
     "output_type": "stream",
     "text": [
      "param_1: 1\n",
      "param_2: 123\n",
      "(1, 12, 33, 'asdsa')\n"
     ]
    }
   ],
   "source": [
    "def func_2(param_1: int, param_2=123):\n",
    "    print(\"param_1:\", param_1)\n",
    "    print(\"param_2:\", param_2)\n",
    "    return 1, 12, 33, \"asdsa\"\n",
    "\n",
    "\n",
    "\n",
    "print(func_2(1))"
   ]
  },
  {
   "cell_type": "code",
   "execution_count": 9,
   "metadata": {},
   "outputs": [
    {
     "name": "stdout",
     "output_type": "stream",
     "text": [
      "param_1: 1\n",
      "param_2: 2\n",
      "(1, 12, 33, 'asdsa')\n"
     ]
    }
   ],
   "source": [
    "print(func_2(1, 2))"
   ]
  },
  {
   "cell_type": "code",
   "execution_count": 10,
   "metadata": {},
   "outputs": [
    {
     "name": "stdout",
     "output_type": "stream",
     "text": [
      "param_1: 2\n",
      "param_2: 1\n",
      "(1, 12, 33, 'asdsa')\n"
     ]
    }
   ],
   "source": [
    "print(func_2(param_2=1, param_1=2))"
   ]
  },
  {
   "cell_type": "code",
   "execution_count": 11,
   "metadata": {},
   "outputs": [
    {
     "name": "stdout",
     "output_type": "stream",
     "text": [
      "func_4\n",
      "('asdasd', 123, 'asd')\n"
     ]
    }
   ],
   "source": [
    "def func_4():\n",
    "    print('func_4')\n",
    "    result = 'asdasd'\n",
    "    return result, 123, \"asd\"\n",
    "\n",
    "\n",
    "print(func_4())"
   ]
  },
  {
   "cell_type": "code",
   "execution_count": 12,
   "metadata": {},
   "outputs": [
    {
     "name": "stdout",
     "output_type": "stream",
     "text": [
      "1\n",
      "2\n",
      "3\n",
      "5\n"
     ]
    }
   ],
   "source": [
    "def ff(*args):\n",
    "    for arg in args:\n",
    "        print(arg)\n",
    "\n",
    "        \n",
    "ff(1,2,3,5)"
   ]
  },
  {
   "cell_type": "code",
   "execution_count": 13,
   "metadata": {},
   "outputs": [
    {
     "name": "stdout",
     "output_type": "stream",
     "text": [
      "1\n",
      "('aza', 1)\n",
      "('lol', 2)\n",
      "('kek', 3)\n",
      "('bup', 5)\n"
     ]
    }
   ],
   "source": [
    "def ff_kw(**kwargs):\n",
    "    print(kwargs['aza'])\n",
    "    for arg in kwargs.items():\n",
    "        print(arg)\n",
    "\n",
    "        \n",
    "ff_kw(aza=1,lol=2,kek=3,bup=5)"
   ]
  },
  {
   "cell_type": "code",
   "execution_count": 17,
   "metadata": {},
   "outputs": [
    {
     "name": "stdout",
     "output_type": "stream",
     "text": [
      "1\n",
      "2\n",
      "3\n",
      "4\n",
      "('aza', 123)\n"
     ]
    }
   ],
   "source": [
    "def ff_all(*args, **kwargs):\n",
    "    for arg in args:\n",
    "        print(arg)\n",
    "    for arg in kwargs.items():\n",
    "        print(arg)\n",
    "        \n",
    "        \n",
    "ff_all(1, 2, 3, 4, aza=123)"
   ]
  },
  {
   "cell_type": "code",
   "execution_count": 23,
   "metadata": {},
   "outputs": [
    {
     "name": "stdout",
     "output_type": "stream",
     "text": [
      "0\n",
      "0\n"
     ]
    }
   ],
   "source": [
    "my_elem = 0\n",
    "\n",
    "\n",
    "def global_var_func():\n",
    "    print(my_elem)\n",
    "\n",
    "    \n",
    "global_var_func()\n",
    "print(my_elem)"
   ]
  },
  {
   "cell_type": "code",
   "execution_count": 25,
   "metadata": {},
   "outputs": [
    {
     "name": "stdout",
     "output_type": "stream",
     "text": [
      "0\n",
      "4\n"
     ]
    }
   ],
   "source": [
    "my_elem = 0\n",
    "\n",
    "\n",
    "def global_var_func():\n",
    "    global my_elem\n",
    "    print(my_elem)\n",
    "    my_elem = 4\n",
    "\n",
    "    \n",
    "global_var_func()\n",
    "print(my_elem)"
   ]
  },
  {
   "cell_type": "code",
   "execution_count": null,
   "metadata": {},
   "outputs": [],
   "source": []
  }
 ],
 "metadata": {
  "kernelspec": {
   "display_name": "Python 3",
   "language": "python",
   "name": "python3"
  },
  "language_info": {
   "codemirror_mode": {
    "name": "ipython",
    "version": 3
   },
   "file_extension": ".py",
   "mimetype": "text/x-python",
   "name": "python",
   "nbconvert_exporter": "python",
   "pygments_lexer": "ipython3",
   "version": "3.8.5"
  }
 },
 "nbformat": 4,
 "nbformat_minor": 4
}
