{
 "cells": [
  {
   "cell_type": "code",
   "execution_count": null,
   "metadata": {},
   "outputs": [],
   "source": [
    "# https://docs.python.org/3/tutorial/inputoutput.html#reading-and-writing-files\n",
    "# https://docs.python.org/3/tutorial/inputoutput.html#methods-of-file-objects\n",
    "# https://docs.python.org/3/reference/compound_stmts.html#the-with-statement\n",
    "# https://docs.python.org/3/library/functions.html#open\n",
    "# https://pythonworld.ru/tipy-dannyx-v-python/fajly-rabota-s-fajlami.html"
   ]
  },
  {
   "cell_type": "code",
   "execution_count": 2,
   "metadata": {},
   "outputs": [
    {
     "name": "stdout",
     "output_type": "stream",
     "text": [
      "1 row\n",
      "2 row\n",
      "3 row\n"
     ]
    }
   ],
   "source": [
    "file = open(\"../TestData/test\", \"r\", encoding=\"utf-8\")\n",
    "print(file.read())  # читать весь файл целиком\n",
    "file.close()"
   ]
  },
  {
   "cell_type": "code",
   "execution_count": 3,
   "metadata": {},
   "outputs": [
    {
     "data": {
      "text/plain": [
       "\"\\nрежимы открытия файла:\\n'r'  - только чтение (default)\\n'w'  - только запись, существующий файл очищается\\n'x'  - только содание файла\\n'a'  - только дозапись в конец файла\\n'b'  - двоичный режим: 'rb', 'wb'\\n't'  - текстовый режим (стандартный)\\n'+'  - для чтения и записи : 'w+', 'w+b' | 'r+', 'r+b'\\n\""
      ]
     },
     "execution_count": 3,
     "metadata": {},
     "output_type": "execute_result"
    }
   ],
   "source": [
    "\"\"\"\n",
    "режимы открытия файла:\n",
    "'r'  - только чтение (default)\n",
    "'w'  - только запись, существующий файл очищается\n",
    "'x'  - только содание файла\n",
    "'a'  - только дозапись в конец файла\n",
    "'b'  - двоичный режим: 'rb', 'wb'\n",
    "'t'  - текстовый режим (стандартный)\n",
    "'+'  - для чтения и записи : 'w+', 'w+b' | 'r+', 'r+b'\n",
    "\"\"\""
   ]
  },
  {
   "cell_type": "code",
   "execution_count": 4,
   "metadata": {},
   "outputs": [
    {
     "name": "stdout",
     "output_type": "stream",
     "text": [
      "1 \n",
      "row\n",
      "\n",
      "['2 row\\n', '3 row']\n"
     ]
    }
   ],
   "source": [
    "file = open(\"../TestData/test\", \"r\", encoding=\"utf-8\")\n",
    "print(file.read(2))  # читать 2 символа\n",
    "line = file.readline()  # считать строку файла (\\n)\n",
    "print(line)\n",
    "lines = file.readlines()  # считать весь файл построчно\n",
    "print(lines)\n",
    "file.close()"
   ]
  },
  {
   "cell_type": "code",
   "execution_count": 5,
   "metadata": {},
   "outputs": [
    {
     "name": "stdout",
     "output_type": "stream",
     "text": [
      "1 row\n",
      "2 row\n",
      "3 row\n"
     ]
    }
   ],
   "source": [
    "with open(\"../TestData/test\", \"r\") as file:\n",
    "    print(file.read())"
   ]
  },
  {
   "cell_type": "code",
   "execution_count": 6,
   "metadata": {},
   "outputs": [
    {
     "name": "stdout",
     "output_type": "stream",
     "text": [
      "1 row\n",
      "\n",
      "2 row\n",
      "\n",
      "3 row\n"
     ]
    }
   ],
   "source": [
    "file = open(\"../TestData/test\", \"r\")\n",
    "line = file.readline()\n",
    "while line:\n",
    "    print(line)\n",
    "    line = file.readline()\n",
    "file.close()"
   ]
  },
  {
   "cell_type": "code",
   "execution_count": 7,
   "metadata": {},
   "outputs": [
    {
     "name": "stdout",
     "output_type": "stream",
     "text": [
      "1 row\n",
      "\n",
      "2 row\n",
      "\n",
      "3 row\n"
     ]
    }
   ],
   "source": [
    "file = open(\"../TestData/test\", \"r\")\n",
    "for line in file:\n",
    "    print(line)\n",
    "file.close()"
   ]
  },
  {
   "cell_type": "code",
   "execution_count": 8,
   "metadata": {},
   "outputs": [],
   "source": [
    "with open(\"../TestData/newtest\", \"w\") as file:\n",
    "    file.write(\"row1\")\n",
    "    file.write(\"row1\")\n",
    "    file.write(\"row1\\n\")\n",
    "    file.writelines([\"row2\\n\", \"row3\\n\"])"
   ]
  },
  {
   "cell_type": "code",
   "execution_count": 9,
   "metadata": {},
   "outputs": [],
   "source": [
    "with open(\"../TestData/newtest.txt\", \"a\") as file:\n",
    "    file.write(\"row1\\n\")\n",
    "    file.write(\"row1\\n\")\n",
    "    file.writelines([\"row2\\n\", \"row3\\n\"])"
   ]
  },
  {
   "cell_type": "code",
   "execution_count": 13,
   "metadata": {},
   "outputs": [
    {
     "name": "stdout",
     "output_type": "stream",
     "text": [
      "0\n",
      "../TestData/test\n",
      "17\n",
      "b'o'\n",
      "18\n",
      "b'w'\n"
     ]
    }
   ],
   "source": [
    "file = open(\"../TestData/test\", \"rb\")\n",
    "print(file.tell())\n",
    "print(file.name)\n",
    "print(file.seek(-2, 2))  # whence = Tuple[0, 1, 2]\n",
    "print(file.read(1))\n",
    "print(file.tell())\n",
    "print(file.read(1))\n",
    "file.close()"
   ]
  },
  {
   "cell_type": "code",
   "execution_count": null,
   "metadata": {},
   "outputs": [],
   "source": []
  }
 ],
 "metadata": {
  "kernelspec": {
   "display_name": "Python 3",
   "language": "python",
   "name": "python3"
  },
  "language_info": {
   "codemirror_mode": {
    "name": "ipython",
    "version": 3
   },
   "file_extension": ".py",
   "mimetype": "text/x-python",
   "name": "python",
   "nbconvert_exporter": "python",
   "pygments_lexer": "ipython3",
   "version": "3.8.5"
  }
 },
 "nbformat": 4,
 "nbformat_minor": 4
}
