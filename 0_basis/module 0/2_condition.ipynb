{
 "cells": [
  {
   "cell_type": "code",
   "execution_count": null,
   "metadata": {},
   "outputs": [],
   "source": [
    "условные выражения:\n",
    "https://docs.python.org/3/tutorial/controlflow.html#if-statements\n",
    "https://docs.python.org/3/reference/compound_stmts.html#the-if-statement\n",
    "https://pythonworld.ru/osnovy/instrukciya-if-elif-else-proverka-istinnosti-trexmestnoe-vyrazhenie-ifelse.html"
   ]
  },
  {
   "cell_type": "code",
   "execution_count": null,
   "metadata": {},
   "outputs": [],
   "source": [
    "\"\"\"\n",
    "условные конструкции предназначены для разветвления логики кода.\n",
    "Например, необходимо вывести в консоль сообщение \"Привет\", но только\n",
    "при условии, что переменная var_1 будет равна 10. Для этого применяют\n",
    "конструкцию\n",
    "<code_0>\n",
    "if <условие>:\n",
    "    <code_1>\n",
    "<code_2>\n",
    "Данная конструкция всегда начинается с if. Затем идет блок <условие>,\n",
    "в котором будет указываться условие скабатывания ветвления. Далее, через\n",
    "символ \":\" и с  обязательными отступами на каждой строке идет блок <code>,\n",
    "где указывается действие, которое должно произойти при срабатывании условия.\n",
    "Таким образом, если условие выполняется, то выполняется код из блока <code_1>,\n",
    "а затем начинается выполнение <code_2>. Если же условие не выполняется, то\n",
    "после выполнения блока <code_0> будет сразу выполняться блок <code_2>.\n",
    "Еще раз. Условие выполняется -> выполняются следующие команды:\n",
    "<code_0>\n",
    "<code_1>\n",
    "<code_2>\n",
    "Условие НЕ выполняется -> выполняются:\n",
    "<code_0>\n",
    "<code_2>\n",
    "\"\"\""
   ]
  },
  {
   "cell_type": "code",
   "execution_count": 1,
   "metadata": {},
   "outputs": [
    {
     "name": "stdout",
     "output_type": "stream",
     "text": [
      "Привет\n"
     ]
    }
   ],
   "source": [
    "#  нашем примере необходимо написать следующий блок if:\n",
    "var_1 = 10\n",
    "\n",
    "# some code ....\n",
    "\n",
    "if var_1 == 10:\n",
    "    print(\"Привет\")"
   ]
  },
  {
   "cell_type": "code",
   "execution_count": null,
   "metadata": {},
   "outputs": [],
   "source": [
    "'''\n",
    "Как вы видите, условием является сравнение переменной var_1 с 10:\n",
    "<var_1 == 10>, которое вернет True, если var_1 равна 10, и вернет False,\n",
    "если var_1 НЕ равна 10.\n",
    "В самом простом случае, блок <условие> должен в результате своем возвращать\n",
    "булево значение True или False.\n",
    "'''"
   ]
  },
  {
   "cell_type": "code",
   "execution_count": null,
   "metadata": {},
   "outputs": [],
   "source": [
    "# Example 0\n",
    "if True:\n",
    "    print('Example 0: True')  # этот принт сработает\n",
    "if False:\n",
    "    print('Example 0: False')  # этот принт не будет выполнен"
   ]
  },
  {
   "cell_type": "code",
   "execution_count": null,
   "metadata": {},
   "outputs": [],
   "source": [
    "# Example 1\n",
    "\"\"\"\n",
    "Так же можно расширить условную конструкцию добавлением блока else.\n",
    "Данный блок будет срабатывать в тех случаях, когда условие блока if\n",
    "не будет выполняться. Например:\n",
    "\"\"\"\n",
    "val_1 = 1\n",
    "val_2 = 2\n",
    "if val_1 > val_2:\n",
    "    print(\"Example 1:\", val_1, \">\", val_2)\n",
    "else:\n",
    "    print(\"Example 1:\", val_1, \"<=\", val_2)"
   ]
  },
  {
   "cell_type": "code",
   "execution_count": null,
   "metadata": {},
   "outputs": [],
   "source": [
    "# Example 2\n",
    "\"\"\"\n",
    "Так же можно расширить условную конструкцию добавлением блока elif.\n",
    "Этот блок явялется дополнительным к блоку if, и позволяет указать\n",
    "дополнительное условие, которое будет проверяться в тех случаях, когда\n",
    "условие предыдущего блока if или elif не будет выполняться. Например:\n",
    "\"\"\"\n",
    "if val_1 > val_2:\n",
    "    print(\"Example 2: val_1 > val_2\")\n",
    "elif val_1 < val_2:\n",
    "    # если не выполняется val_1 > val_2, то проверяется это условие\n",
    "    print(\"Example 2: val_1 < val_2\")\n",
    "elif val_1 == val_2:\n",
    "    # если не выполняется и val_1 > val_2, и val_1 < val_2\n",
    "    # то проверяется это условие\n",
    "    print(\"Example 2: val_1 == val_2\")\n",
    "else:\n",
    "    # во всех остальных случаях срабатывает else\n",
    "    print(\"else\")\n",
    "\n",
    "\"\"\"\n",
    "else НЕ является обязательной в конструкции if-elif-else.\n",
    "Вы можете написать простой if, или же связку из if-elif-...-elif,\n",
    "или же if-else.\n",
    "\"\"\""
   ]
  },
  {
   "cell_type": "markdown",
   "metadata": {},
   "source": [
    "### is\n",
    "### not"
   ]
  },
  {
   "cell_type": "code",
   "execution_count": 3,
   "metadata": {},
   "outputs": [
    {
     "name": "stdout",
     "output_type": "stream",
     "text": [
      "Example 3: not False: True\n",
      "Example 3: 1 is 1: True\n",
      "Example 3: 1000 is int(\"1000\"): False\n",
      "Example 3: 1000 == int(\"1000\"): True\n",
      "Example 3: [1, 2, 3] is [1, 2, 3]: False\n"
     ]
    },
    {
     "name": "stderr",
     "output_type": "stream",
     "text": [
      "<>:9: SyntaxWarning: \"is\" with a literal. Did you mean \"==\"?\n",
      "<>:10: SyntaxWarning: \"is\" with a literal. Did you mean \"==\"?\n",
      "<>:9: SyntaxWarning: \"is\" with a literal. Did you mean \"==\"?\n",
      "<>:10: SyntaxWarning: \"is\" with a literal. Did you mean \"==\"?\n",
      "<ipython-input-3-5247480bcdcc>:9: SyntaxWarning: \"is\" with a literal. Did you mean \"==\"?\n",
      "  print(\"Example 3: 1 is 1:\", 1 is 1)  # возвращает True, вроде все просто, НО....\n",
      "<ipython-input-3-5247480bcdcc>:10: SyntaxWarning: \"is\" with a literal. Did you mean \"==\"?\n",
      "  print('Example 3: 1000 is int(\"1000\"):', 1000 is int(\"1000\"))  # возвращает False!\n"
     ]
    },
    {
     "data": {
      "text/plain": [
       "'\\nНа этот результат влияет особеность хранения значений и структур данных в\\npython, про структуры данных поговорим в следующих модулях.\\nПока что запомните, что происходит сравнение именно что на то, что это ОДИН\\nи ТОТ ЖЕ объект!\\nт.е. сверяется не значение 100 и 100, а то, что обе переменных ссылаются\\nна один и тот же объект. В случае 10000 is 10**4 решающих фактором является\\nто, что python по-хитрому хранит одинаковые значения, по факту, если две\\nпеременных хранят одно и то же значение, то и объект у них будет один, но как\\nтолько одна из переменных изменит свое значение - они будут работать с разными\\nобъектами.\\n'"
      ]
     },
     "execution_count": 3,
     "metadata": {},
     "output_type": "execute_result"
    }
   ],
   "source": [
    "# Example 3\n",
    "\"\"\"\n",
    "В python так же присутсвуют конструкции is и not. is позволяет\n",
    "проверить, является ли два объекта одним и тем же объектом, а not - обозначает\n",
    "простое отрицание, например not False будет значить True\n",
    "\"\"\"\n",
    "print(\"Example 3: not False:\", not False)  # выведется \"not False: True\"\n",
    "\n",
    "print(\"Example 3: 1 is 1:\", 1 is 1)  # возвращает True, вроде все просто, НО....\n",
    "print('Example 3: 1000 is int(\"1000\"):', 1000 is int(\"1000\"))  # возвращает False!\n",
    "print('Example 3: 1000 == int(\"1000\"):', 1000 == int(\"1000\"))  # когда простое == - True\n",
    "# если сравнить два одинаковых списка...\n",
    "print(\"Example 3: [1, 2, 3] is [1, 2, 3]:\", [1, 2, 3] is [1, 2, 3])  # выведет False\n",
    "\n",
    "\"\"\"\n",
    "На этот результат влияет особеность хранения значений и структур данных в\n",
    "python, про структуры данных поговорим в следующих модулях.\n",
    "Пока что запомните, что происходит сравнение именно что на то, что это ОДИН\n",
    "и ТОТ ЖЕ объект!\n",
    "т.е. сверяется не значение 100 и 100, а то, что обе переменных ссылаются\n",
    "на один и тот же объект. В случае 10000 is 10**4 решающих фактором является\n",
    "то, что python по-хитрому хранит одинаковые значения, по факту, если две\n",
    "переменных хранят одно и то же значение, то и объект у них будет один, но как\n",
    "только одна из переменных изменит свое значение - они будут работать с разными\n",
    "объектами.\n",
    "\"\"\""
   ]
  },
  {
   "cell_type": "code",
   "execution_count": 7,
   "metadata": {},
   "outputs": [
    {
     "name": "stdout",
     "output_type": "stream",
     "text": [
      "Example 4: asd - not None\n"
     ]
    }
   ],
   "source": [
    "# Example 4\n",
    "val_1 = 'asd'\n",
    "if type(val_1) is int:  # проверим, что val_1 интовская переменная\n",
    "    print(\"Example 4:\", val_1, \"- int\")\n",
    "elif type(val_1) is not str:  # проверим, что val_1 не строковая переменная\n",
    "    print(\"Example 4:\", val_1, \"- not str\")\n",
    "elif type(val_1) is not None:  # проверим, что val_1 не None\n",
    "    print(\"Example 4:\", val_1, \"- not None\")"
   ]
  },
  {
   "cell_type": "markdown",
   "metadata": {},
   "source": [
    "### and or"
   ]
  },
  {
   "cell_type": "code",
   "execution_count": null,
   "metadata": {},
   "outputs": [],
   "source": [
    "\"\"\"\n",
    "В python присутствуют конструкции and и or.\n",
    "Имеют соответствующее названиям значения -\n",
    "and - аналог логического И\n",
    "or - аналог логического ИЛИ\n",
    "т.е.:\n",
    "      X       =  |   and   |  or    |\n",
    "False X False == |  False  | False  |\n",
    "False X True  == |  False  | True   |\n",
    "True  X False == |  False  | True   |\n",
    "True  X True  == |  True   | True   |\n",
    "\"\"\""
   ]
  },
  {
   "cell_type": "code",
   "execution_count": 8,
   "metadata": {},
   "outputs": [
    {
     "name": "stdout",
     "output_type": "stream",
     "text": [
      "Example 5: val_1 == 1 and val_2 != 2\n"
     ]
    }
   ],
   "source": [
    "# Example 5\n",
    "val_1 = 1\n",
    "val_2 = 2\n",
    "if val_1 == 1 and val_2 != 2:\n",
    "    print(\"Example 5: val_1 == 1 and val_2 != 2\")\n",
    "\n",
    "if val_1 == 1 or val_2 != 2:\n",
    "    print(\"Example 5: val_1 == 1 and val_2 != 2\")"
   ]
  },
  {
   "cell_type": "code",
   "execution_count": null,
   "metadata": {},
   "outputs": [],
   "source": [
    "'''\n",
    "можно реализовывать многострочные условия с помощью символа \\ в конце\n",
    "строки. Или же объединяя условие в ().\n",
    "Символ \\ вообще имеет много применений, например в текстовой строке применяется\n",
    "для обозначения служебных символов, так называемых escape sequence, таких как\n",
    "символ переноса строки - \\n и многие другие. Поэтому в тексте, если вы хотите\n",
    "написать просто \\, то стоит писать \\\\, тогда он преобразуется на выходе в\n",
    "одинарный \\. Это поможет избежать неосознанных ошибок, например, символ \\\"\n",
    "позволяет в строке, созданной с применением символа \", н-р \"это текст!\",\n",
    "написать символ \" как часть этого текста, а не закрывающие двойные кавычки.\n",
    "'''"
   ]
  },
  {
   "cell_type": "code",
   "execution_count": 9,
   "metadata": {},
   "outputs": [
    {
     "name": "stdout",
     "output_type": "stream",
     "text": [
      "Example 6: \\\n",
      "Example 6: ()\n"
     ]
    }
   ],
   "source": [
    "# Example 6\n",
    "val_1 = 0\n",
    "val_2 = 1\n",
    "if (val_1 < 1 or val_1 > 20) and \\\n",
    "        (val_2 == 1 or val_2 != 2):\n",
    "    print(\"Example 6: \\\\\")\n",
    "\n",
    "if ((val_1 < 1 or val_1 > 20) and\n",
    "        (val_2 == 1 or val_2 != 2)):\n",
    "    print(\"Example 6: ()\")"
   ]
  },
  {
   "cell_type": "code",
   "execution_count": null,
   "metadata": {},
   "outputs": [],
   "source": []
  }
 ],
 "metadata": {
  "kernelspec": {
   "display_name": "Python 3",
   "language": "python",
   "name": "python3"
  },
  "language_info": {
   "codemirror_mode": {
    "name": "ipython",
    "version": 3
   },
   "file_extension": ".py",
   "mimetype": "text/x-python",
   "name": "python",
   "nbconvert_exporter": "python",
   "pygments_lexer": "ipython3",
   "version": "3.8.5"
  }
 },
 "nbformat": 4,
 "nbformat_minor": 4
}
