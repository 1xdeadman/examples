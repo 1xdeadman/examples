{
 "cells": [
  {
   "cell_type": "code",
   "execution_count": null,
   "metadata": {},
   "outputs": [],
   "source": [
    "https://docs.python.org/3/library/stdtypes.html#bytes\n",
    "https://docs.python.org/3/library/stdtypes.html#sequence-types-list-tuple-range\n",
    "https://docs.python.org/3/library/stdtypes.html#binary-sequence-types-bytes-bytearray-memoryview\n",
    "https://docs.python.org/3/library/stdtypes.html#set-types-set-frozenset\n",
    "https://docs.python.org/3/library/stdtypes.html#mapping-types-dict\n",
    "https://docs.python.org/3/reference/simple_stmts.html#the-del-statement\n",
    "\n",
    "\n",
    "https://pythonworld.ru/tipy-dannyx-v-python/spiski-list-funkcii-i-metody-spiskov.html\n",
    "https://pythonworld.ru/tipy-dannyx-v-python/kortezhi-tuple.html\n",
    "https://pythonworld.ru/tipy-dannyx-v-python/mnozhestva-set-i-frozenset.html\n",
    "https://pythonworld.ru/tipy-dannyx-v-python/slovari-dict-funkcii-i-metody-slovarej.html\n",
    "https://pythonworld.ru/tipy-dannyx-v-python/bajty-bytes-i-bytearray.html"
   ]
  },
  {
   "cell_type": "markdown",
   "metadata": {},
   "source": [
    "### list"
   ]
  },
  {
   "cell_type": "code",
   "execution_count": 4,
   "metadata": {},
   "outputs": [],
   "source": [
    "# инициализация списков\n",
    "list0 = []\n",
    "list1 = list()\n",
    "list2 = [1, 2, \"text\", True, 3.3]\n",
    "list3 = list(list2)\n",
    "list4 = [0] * 10\n",
    "list5 = [x for x in range(50)]"
   ]
  },
  {
   "cell_type": "code",
   "execution_count": null,
   "metadata": {},
   "outputs": [],
   "source": [
    "'''\n",
    "Списки позволяют обратиться к отдельному элементу с\n",
    "помощью конструкции list_name[index].\n",
    "index может изменяться от 0 до (количество элементов в списке - 1).\n",
    "При обращении к list_name[0] - получим самый первый элемент списка.\n",
    "Так же можно обращаться с отрицательными значениями:\n",
    "list_name[-1] - получить последний элемент списка\n",
    "'''"
   ]
  },
  {
   "cell_type": "code",
   "execution_count": 5,
   "metadata": {},
   "outputs": [
    {
     "name": "stdout",
     "output_type": "stream",
     "text": [
      "2\n",
      "3.3\n",
      "[2, 'text text', [10, 11, 12], True]\n"
     ]
    }
   ],
   "source": [
    "random_var = list3[1]  # обратиться к элементу списка по индексом 1.\n",
    "print(random_var)\n",
    "random_var = list3[-1]  # получить предпоследний элемент списка\n",
    "print(random_var)\n",
    "list3[0] = 11  # изменить первый элемент списка на значение 11\n",
    "list3[0] += 11  # увеличить первый элемент списка на значение 11\n",
    "list3[-1] = True  # изменить последний элемент списка на значение True\n",
    "list3[2] += \" text\"\n",
    "list3[3] = [10, 11, 12]  # изменить элемент с индексом 2 на список из трёх элементов.\n",
    "del list3[0]  # удалить элемент из списка\n",
    "print(list3)"
   ]
  },
  {
   "cell_type": "code",
   "execution_count": 6,
   "metadata": {},
   "outputs": [
    {
     "name": "stdout",
     "output_type": "stream",
     "text": [
      "[[123, 2, 3], [4, 5, 6], [7, 8, 9]]\n"
     ]
    }
   ],
   "source": [
    "d_ilst = [\n",
    "    [1, 2, 3],\n",
    "    [4, 5, 6],\n",
    "    [7, 8, 9]\n",
    "]\n",
    "d_ilst[0][0] = 123\n",
    "print(d_ilst)"
   ]
  },
  {
   "cell_type": "code",
   "execution_count": 11,
   "metadata": {},
   "outputs": [],
   "source": [
    "'''цикл для последовательного чтения всех элементов списка.\n",
    "Переменная num на каждой итерации будет последовательно хранить значение\n",
    "0го, 1го, 2го и т.д.\n",
    "элемента списка.\n",
    "'''"
   ]
  },
  {
   "cell_type": "code",
   "execution_count": 12,
   "metadata": {},
   "outputs": [
    {
     "name": "stdout",
     "output_type": "stream",
     "text": [
      "     <class 'int'> 1\n",
      "     <class 'int'> 2\n",
      "     <class 'str'> text\n",
      "     <class 'bool'> True\n",
      "     <class 'float'> 3.3\n",
      "[1, 2, 'text', True, 3.3]\n"
     ]
    }
   ],
   "source": [
    "list3 = list(list2)\n",
    "for num in list3:\n",
    "    print(\"    \", type(num), num)\n",
    "    num = 11\n",
    "    # num = 11 # не позволяет изменять элемемент списка\n",
    "print(list3)"
   ]
  },
  {
   "cell_type": "code",
   "execution_count": 13,
   "metadata": {},
   "outputs": [
    {
     "name": "stdout",
     "output_type": "stream",
     "text": [
      "0 :  1\n",
      "1 :  2\n",
      "2 :  text\n",
      "3 :  True\n",
      "4 :  3.3\n",
      "[1, 2, 'text', True, 3.3]\n"
     ]
    }
   ],
   "source": [
    "list3 = list(list2)\n",
    "for index, num in enumerate(list3):\n",
    "    print(index, \": \", num)\n",
    "    # num = 11 # не позволяет изменять элемемент списка\n",
    "print(list3)"
   ]
  },
  {
   "cell_type": "code",
   "execution_count": 16,
   "metadata": {},
   "outputs": [
    {
     "name": "stdout",
     "output_type": "stream",
     "text": [
      "0 : 1\n",
      "1 : 2\n",
      "2 : text\n",
      "3 : True\n",
      "4 : 3.3\n",
      "[11, 11, 11, 11, 11]\n"
     ]
    }
   ],
   "source": [
    "list3 = list(list2)\n",
    "for index in range(len(list3)):\n",
    "    print(index, \":\", list3[index])\n",
    "    list3[index] = 11\n",
    "print(list3)"
   ]
  },
  {
   "cell_type": "code",
   "execution_count": 25,
   "metadata": {},
   "outputs": [
    {
     "name": "stdout",
     "output_type": "stream",
     "text": [
      "[1, 2, 3]\n",
      "append: [1, 2, 3, 11]\n",
      "insert(2, 11): [1, 2, 11, 3, 11]\n",
      "insert(0, 1): [1, 1, 2, 11, 3, 11]\n",
      "insert(10, 10): [1, 1, 2, 11, 3, 11, 10]\n"
     ]
    }
   ],
   "source": [
    "list10 = [1, 2, 3]\n",
    "print(list10)\n",
    "list10.append(11)  # добавить новый элемент в конец списка. [1,2,3,1]\n",
    "print(\"append:\", list10)\n",
    "list10.insert(2, 11)  # добавить новый элемент в список на позицию под индексом 2. Остальные элементы сдвинутся на +1. [1, 2, 11, 3, 1]\n",
    "print(\"insert(2, 11):\", list10)\n",
    "list10.insert(0, 1)  # добавить новый элемент в список на позицию под индексом 2. Остальные элементы сдвинутся на +1. [1, 1, 2, 11, 3, 1]\n",
    "print(\"insert(0, 1):\", list10)\n",
    "list10.insert(10, 10)  # Просто добавит элемент в конец списка, если максимальный индекс в списке меньше заданного. [1, 1, 2, 11, 3, 1, 10]\n",
    "print(\"insert(10, 10):\", list10)"
   ]
  },
  {
   "cell_type": "code",
   "execution_count": 26,
   "metadata": {},
   "outputs": [
    {
     "name": "stdout",
     "output_type": "stream",
     "text": [
      "count(1): 2\n",
      "reverse: [10, 11, 3, 11, 2, 1, 1]\n",
      "sort: [1, 1, 2, 3, 10, 11, 11]\n",
      "remove: [1, 1, 2, 3, 10, 11]\n",
      "clear: []\n"
     ]
    }
   ],
   "source": [
    "print(\"count(1):\", list10.count(1))  # узать количество чисел 1 в списке\n",
    "list10.reverse()  # интвертировать список\n",
    "print(\"reverse:\", list10)\n",
    "list10.sort()  # сортировать список. Работает, только если элементы списка поддерживают операцию < между собой\n",
    "print(\"sort:\", list10)\n",
    "list10.remove(11)  # удалить самый первый элемент зо значением 11\n",
    "print(\"remove:\", list10)\n",
    "list10.clear()  # очистить список\n",
    "print(\"clear:\", list10)"
   ]
  },
  {
   "cell_type": "code",
   "execution_count": 27,
   "metadata": {},
   "outputs": [],
   "source": [
    "list0 = [0, 0, 0]\n",
    "list5 = list0.copy()  # полное копирование списка. В ином случае переменные list5 и list0 будут обращаться к одному и тому же списку.\n",
    "# list5 = list0      # если осуществить простое присваивание\n",
    "list5[0] = 100000  # при изменении list5[0] изменится и значение list0[0], так как и list5 и list0 ссылаются на один и тот же список\n",
    "list5 = [1, 2, 3]\n",
    "list5.extend(list0)  # расширить список значениями из существующего [1,2,3,0,0,0]"
   ]
  },
  {
   "cell_type": "code",
   "execution_count": null,
   "metadata": {},
   "outputs": [],
   "source": [
    "# поиск в списке\n",
    "if 1 in list2:\n",
    "    print(\"1 in list2\")\n",
    "else:\n",
    "    pass\n",
    "if 1 not in list2:\n",
    "    print(\"1 not in list2\")"
   ]
  },
  {
   "cell_type": "code",
   "execution_count": null,
   "metadata": {},
   "outputs": [],
   "source": [
    "list6 = [0, 1, 2, 3, 4, 5, 6, 7, 8, 9]\n",
    "\n",
    "list7 = list6[2:]\n",
    "list7 = list6[:6]\n",
    "list7 = list6[2:6]\n",
    "list7 = list6[2:6:2]  # создание списка на основе уже существующего, начиная с 0го элемента, заканчивая 6, с шагом копируемых элементов 2\n",
    "print(list7)"
   ]
  },
  {
   "cell_type": "markdown",
   "metadata": {},
   "source": [
    "### dictionary"
   ]
  },
  {
   "cell_type": "code",
   "execution_count": null,
   "metadata": {},
   "outputs": [],
   "source": [
    "# инициализация\n",
    "dict0 = {}\n",
    "dict0 = dict()\n",
    "dict0 = {\n",
    "    0: \"data0\",\n",
    "    1: \"data1\"\n",
    "}\n",
    "\n",
    "dict2 = {\n",
    "    12: \"data0\",\n",
    "    \"dict\": {1: \"kek\"},\n",
    "    \"list\": [1, 2, 3, 4]\n",
    "}"
   ]
  },
  {
   "cell_type": "code",
   "execution_count": null,
   "metadata": {},
   "outputs": [],
   "source": [
    "rand_var = dict0[0]  # обращение к элементу словаря\n",
    "dict0[0] = 123              # запись в словарь. Как запись в существующий элемент,\n",
    "dict0[\"perf_key\"] = \"data\"  # так и создание нового\n",
    "del dict0[\"perf_key\"]   # удалить элемент словаря"
   ]
  },
  {
   "cell_type": "code",
   "execution_count": null,
   "metadata": {},
   "outputs": [],
   "source": [
    "# пробег по словарю\n",
    "for key in dict2:  # получение ключей\n",
    "    print(key)\n",
    "for key in dict2.keys():  # получение ключей\n",
    "    print(key)\n",
    "for value in dict2.values():   # получение значений\n",
    "    print(value)\n",
    "\n",
    "for item in dict2.items():   # получение ключей и значений\n",
    "    print(item)\n",
    "for key, value in dict2.items():   # получение ключей и значений\n",
    "    print(key, value)"
   ]
  },
  {
   "cell_type": "code",
   "execution_count": null,
   "metadata": {},
   "outputs": [],
   "source": [
    "# поиск"
   ]
  },
  {
   "cell_type": "code",
   "execution_count": null,
   "metadata": {},
   "outputs": [],
   "source": [
    "if 'key0' in dict2:  # поиск по ключу словаря\n",
    "    print('key0 in dict2')"
   ]
  },
  {
   "cell_type": "code",
   "execution_count": null,
   "metadata": {},
   "outputs": [],
   "source": [
    "dic10 = dict2.copy()\n",
    "dict2.clear()\n",
    "dict2.update(dict0)"
   ]
  },
  {
   "cell_type": "markdown",
   "metadata": {},
   "source": [
    "### tuple"
   ]
  },
  {
   "cell_type": "code",
   "execution_count": 55,
   "metadata": {},
   "outputs": [],
   "source": [
    "tuple1 = tuple()\n",
    "tuple1 = ()\n",
    "tuple0 = (0, 1, [1, 2, 3], \"123123\", 4)"
   ]
  },
  {
   "cell_type": "code",
   "execution_count": 56,
   "metadata": {},
   "outputs": [
    {
     "name": "stdout",
     "output_type": "stream",
     "text": [
      "1\n"
     ]
    },
    {
     "data": {
      "text/plain": [
       "3"
      ]
     },
     "execution_count": 56,
     "metadata": {},
     "output_type": "execute_result"
    }
   ],
   "source": [
    "print(tuple0.count(0))\n",
    "tuple0.index(1)\n",
    "len(tuple0[2])"
   ]
  },
  {
   "cell_type": "code",
   "execution_count": 57,
   "metadata": {},
   "outputs": [
    {
     "name": "stdout",
     "output_type": "stream",
     "text": [
      "0\n"
     ]
    }
   ],
   "source": [
    "print(tuple0[0])"
   ]
  },
  {
   "cell_type": "markdown",
   "metadata": {},
   "source": [
    "### set"
   ]
  },
  {
   "cell_type": "code",
   "execution_count": 39,
   "metadata": {},
   "outputs": [
    {
     "name": "stdout",
     "output_type": "stream",
     "text": [
      "list0: [1, 2, 3, 33, 5]\n",
      "set0: {1, 2, 3, 33, 5}\n",
      "set1: {1, 2, 3, 4, 5}\n"
     ]
    }
   ],
   "source": [
    "list0 = [1, 2, 3, 5, 5, 33, 33]\n",
    "set0 = set(list0)\n",
    "list0 = list(set0)\n",
    "set1 = {1, 2, 3, 4, 5, 1, 1}\n",
    "print(\"list0:\", list0)\n",
    "print(\"set0:\", set0)\n",
    "print(\"set1:\", set1)"
   ]
  },
  {
   "cell_type": "code",
   "execution_count": 40,
   "metadata": {},
   "outputs": [
    {
     "name": "stdout",
     "output_type": "stream",
     "text": [
      "False\n"
     ]
    }
   ],
   "source": [
    "print(set1.issubset(set0))"
   ]
  },
  {
   "cell_type": "code",
   "execution_count": 41,
   "metadata": {},
   "outputs": [
    {
     "name": "stdout",
     "output_type": "stream",
     "text": [
      "{1, 2, 3, 33, 5, 4}\n"
     ]
    }
   ],
   "source": [
    "print(set0.union(set1))"
   ]
  },
  {
   "cell_type": "code",
   "execution_count": 43,
   "metadata": {},
   "outputs": [
    {
     "name": "stdout",
     "output_type": "stream",
     "text": [
      "{33}\n"
     ]
    }
   ],
   "source": [
    "print(set0.difference(set1))"
   ]
  },
  {
   "cell_type": "code",
   "execution_count": 45,
   "metadata": {},
   "outputs": [
    {
     "name": "stdout",
     "output_type": "stream",
     "text": [
      "{1, 2, 3, 5}\n"
     ]
    }
   ],
   "source": [
    "print(set0.intersection(set1))"
   ]
  },
  {
   "cell_type": "code",
   "execution_count": 46,
   "metadata": {},
   "outputs": [
    {
     "name": "stdout",
     "output_type": "stream",
     "text": [
      "{1, 2, 3, 33, 5, 4}\n"
     ]
    }
   ],
   "source": [
    "set0.update(set1)\n",
    "print(set0)"
   ]
  },
  {
   "cell_type": "code",
   "execution_count": 47,
   "metadata": {},
   "outputs": [
    {
     "name": "stdout",
     "output_type": "stream",
     "text": [
      "True\n"
     ]
    }
   ],
   "source": [
    "print(set1.issubset(set0))"
   ]
  },
  {
   "cell_type": "code",
   "execution_count": 48,
   "metadata": {},
   "outputs": [
    {
     "name": "stdout",
     "output_type": "stream",
     "text": [
      "{1, 2, 3, 5, 4}\n"
     ]
    }
   ],
   "source": [
    "set0.remove(33)\n",
    "print(set0)"
   ]
  },
  {
   "cell_type": "code",
   "execution_count": 49,
   "metadata": {},
   "outputs": [
    {
     "name": "stdout",
     "output_type": "stream",
     "text": [
      "{1, 2, 3, 4, 5}\n"
     ]
    }
   ],
   "source": [
    "tmp_set = set0.copy()\n",
    "print(tmp_set)"
   ]
  },
  {
   "cell_type": "code",
   "execution_count": 50,
   "metadata": {},
   "outputs": [
    {
     "name": "stdout",
     "output_type": "stream",
     "text": [
      "set()\n"
     ]
    }
   ],
   "source": [
    "tmp_set.clear()\n",
    "print(tmp_set)"
   ]
  },
  {
   "cell_type": "code",
   "execution_count": 52,
   "metadata": {},
   "outputs": [
    {
     "name": "stdout",
     "output_type": "stream",
     "text": [
      "{2, 3, 5, 4}\n",
      "2\n",
      "{3, 5, 4}\n"
     ]
    }
   ],
   "source": [
    "print(set0)\n",
    "print(set0.pop())\n",
    "print(set0)"
   ]
  },
  {
   "cell_type": "code",
   "execution_count": 54,
   "metadata": {},
   "outputs": [
    {
     "name": "stdout",
     "output_type": "stream",
     "text": [
      "{3, 5, 4, 2222}\n"
     ]
    }
   ],
   "source": [
    "set0.add(2222)\n",
    "print(set0)"
   ]
  },
  {
   "cell_type": "markdown",
   "metadata": {},
   "source": [
    "### bytearray and bytes"
   ]
  },
  {
   "cell_type": "code",
   "execution_count": 71,
   "metadata": {},
   "outputs": [
    {
     "name": "stdout",
     "output_type": "stream",
     "text": [
      "byte_array1 bytearray(b'\\x01\\x02\\x03\\x04')\n",
      "byte_array2 bytearray(b'\\x00\\x00\\x00\\x00\\x00\\x00\\x00\\x00\\x00\\x00')\n",
      "byte_array3 bytearray(b'text')\n"
     ]
    }
   ],
   "source": [
    "byte_array1 = bytearray([1, 2, 3, 4])\n",
    "print('byte_array1', byte_array1)\n",
    "byte_array2 = bytearray(10)\n",
    "print('byte_array2', byte_array2)\n",
    "byte_array3 = bytearray('text', encoding='utf-8')\n",
    "print('byte_array3', byte_array3)"
   ]
  },
  {
   "cell_type": "code",
   "execution_count": 72,
   "metadata": {},
   "outputs": [],
   "source": [
    "tmp_byte_array = byte_array1.copy()"
   ]
  },
  {
   "cell_type": "code",
   "execution_count": 73,
   "metadata": {},
   "outputs": [
    {
     "name": "stdout",
     "output_type": "stream",
     "text": [
      "insert(1, 10): bytearray(b'\\x01\\n\\x02\\x03\\x04')\n",
      "append(2): bytearray(b'\\x01\\n\\x02\\x03\\x04\\x02')\n",
      "pop: 2\n"
     ]
    }
   ],
   "source": [
    "byte_array1.insert(1, 10)\n",
    "print('insert(1, 10):', byte_array1)\n",
    "byte_array1.append(2)\n",
    "print('append(2):', byte_array1)\n",
    "print('pop:', byte_array1.pop())"
   ]
  },
  {
   "cell_type": "code",
   "execution_count": 74,
   "metadata": {},
   "outputs": [
    {
     "name": "stdout",
     "output_type": "stream",
     "text": [
      "hex(): 010a020304\n",
      "count(1): 1\n",
      "byte_array3.decode: text\n",
      "reverse: bytearray(b'\\x04\\x03\\x02\\n\\x01')\n",
      "index(2): 2\n",
      "extend: bytearray(b'\\x04\\x03\\x02\\n\\x01text')\n"
     ]
    }
   ],
   "source": [
    "print('hex():', byte_array1.hex())\n",
    "print('count(1):', byte_array1.count(1))\n",
    "print('byte_array3.decode:', byte_array3.decode(encoding='utf-8'))\n",
    "byte_array1.reverse()\n",
    "print('reverse:', byte_array1)\n",
    "print('index(2):', byte_array1.index(2))\n",
    "byte_array1.extend(byte_array3)\n",
    "print('extend:', byte_array1)"
   ]
  },
  {
   "cell_type": "code",
   "execution_count": 75,
   "metadata": {},
   "outputs": [
    {
     "name": "stdout",
     "output_type": "stream",
     "text": [
      "clear: bytearray(b'')\n",
      "remove(1): bytearray(b'\\x04\\x03\\x02\\ntext')\n"
     ]
    }
   ],
   "source": [
    "tmp_byte_array.clear()\n",
    "print('clear:', tmp_byte_array)\n",
    "byte_array1.remove(1)\n",
    "print('remove(1):', byte_array1)"
   ]
  },
  {
   "cell_type": "code",
   "execution_count": 76,
   "metadata": {},
   "outputs": [
    {
     "name": "stdout",
     "output_type": "stream",
     "text": [
      "4\n"
     ]
    }
   ],
   "source": [
    "print(byte_array1[0])"
   ]
  },
  {
   "cell_type": "code",
   "execution_count": 77,
   "metadata": {},
   "outputs": [
    {
     "name": "stdout",
     "output_type": "stream",
     "text": [
      "bytearray(b'\\x04\\x03\\x02\\ntext')\n",
      "bytearray(b'\\x04\\x037\\ntext')\n"
     ]
    }
   ],
   "source": [
    "print(byte_array1)\n",
    "byte_array1[2] = 55\n",
    "print(byte_array1)"
   ]
  },
  {
   "cell_type": "code",
   "execution_count": null,
   "metadata": {},
   "outputs": [],
   "source": []
  },
  {
   "cell_type": "code",
   "execution_count": null,
   "metadata": {},
   "outputs": [],
   "source": []
  }
 ],
 "metadata": {
  "kernelspec": {
   "display_name": "Python 3",
   "language": "python",
   "name": "python3"
  },
  "language_info": {
   "codemirror_mode": {
    "name": "ipython",
    "version": 3
   },
   "file_extension": ".py",
   "mimetype": "text/x-python",
   "name": "python",
   "nbconvert_exporter": "python",
   "pygments_lexer": "ipython3",
   "version": "3.8.5"
  }
 },
 "nbformat": 4,
 "nbformat_minor": 4
}
