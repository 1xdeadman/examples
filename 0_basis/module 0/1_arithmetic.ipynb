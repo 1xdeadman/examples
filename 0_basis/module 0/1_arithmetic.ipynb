{
 "cells": [
  {
   "cell_type": "code",
   "execution_count": null,
   "metadata": {},
   "outputs": [],
   "source": [
    "основные арифметические операций:\n",
    "https://docs.python.org/3/library/stdtypes.html#numeric-types-int-float-complex\n",
    "https://metanit.com/python/tutorial/2.3.php"
   ]
  },
  {
   "cell_type": "markdown",
   "metadata": {},
   "source": [
    "## основные арифметические операци над числами (int/float)"
   ]
  },
  {
   "cell_type": "code",
   "execution_count": 2,
   "metadata": {},
   "outputs": [
    {
     "name": "stdout",
     "output_type": "stream",
     "text": [
      "Числа\n"
     ]
    }
   ],
   "source": [
    "print(\"Числа\")\n",
    "val_1 = 1\n",
    "val_2 = 2"
   ]
  },
  {
   "cell_type": "code",
   "execution_count": 3,
   "metadata": {},
   "outputs": [
    {
     "name": "stdout",
     "output_type": "stream",
     "text": [
      "1 + 2 = 3\n",
      "1 - 2 = -1\n",
      "1 * 2 = 2\n",
      "1 / 2 = 0.5\n",
      "1 // 2 = 0\n",
      "1 ** 2 = 1\n",
      "1 % 2 = 1\n"
     ]
    }
   ],
   "source": [
    "print(val_1, \"+\", val_2, \"=\", val_1 + val_2)  # операция сложения двух чисел\n",
    "print(val_1, \"-\", val_2, \"=\", val_1 - val_2)  # операция вычитания двух чисел\n",
    "print(val_1, \"*\", val_2, \"=\", val_1 * val_2)  # операция умножения двух чисел\n",
    "print(val_1, \"/\", val_2, \"=\", val_1 / val_2)  # деление двух чисел\n",
    "print(val_1, \"//\", val_2, \"=\", val_1 // val_2)  # целочисленное деление\n",
    "print(val_1, \"**\", val_2, \"=\", val_1 ** val_2)  # возведение числа val_1 в степень val_2\n",
    "print(val_1, \"%\", val_2, \"=\", val_1 % val_2)  # остаток от деления числа val_1 на число val_2\n",
    "# etc..."
   ]
  },
  {
   "cell_type": "code",
   "execution_count": 4,
   "metadata": {},
   "outputs": [
    {
     "name": "stdout",
     "output_type": "stream",
     "text": [
      "val_3: 3\n"
     ]
    }
   ],
   "source": [
    "# результат операции можно записывать в другую переменную:\n",
    "val_3 = val_1 + val_2\n",
    "print(\"val_3:\", val_3)"
   ]
  },
  {
   "cell_type": "code",
   "execution_count": 9,
   "metadata": {},
   "outputs": [
    {
     "name": "stdout",
     "output_type": "stream",
     "text": [
      "3\n"
     ]
    }
   ],
   "source": [
    "# операции можно производить и над литералами:\n",
    "val_3 = 1 + 2\n",
    "print(val_3)"
   ]
  },
  {
   "cell_type": "code",
   "execution_count": 10,
   "metadata": {},
   "outputs": [
    {
     "name": "stdout",
     "output_type": "stream",
     "text": [
      "3\n"
     ]
    }
   ],
   "source": [
    "# операции можно производить над литералами и переменными:\n",
    "val_3 = val_1 + 2\n",
    "print(val_3)"
   ]
  },
  {
   "cell_type": "code",
   "execution_count": 11,
   "metadata": {},
   "outputs": [
    {
     "name": "stdout",
     "output_type": "stream",
     "text": [
      "6.666666666666667\n"
     ]
    }
   ],
   "source": [
    "# можно строить цепочки из операций\n",
    "val_3 = 1 + 2 + 3 + val_1 * 4 / 6\n",
    "print(val_3)"
   ]
  },
  {
   "cell_type": "code",
   "execution_count": 12,
   "metadata": {},
   "outputs": [
    {
     "name": "stdout",
     "output_type": "stream",
     "text": [
      "9\n"
     ]
    }
   ],
   "source": [
    "# для определения специфической последовательности операций используются скобки ()\n",
    "val_3 = (1 + 2) * (1 + 2)\n",
    "print(val_3)"
   ]
  },
  {
   "cell_type": "code",
   "execution_count": 13,
   "metadata": {},
   "outputs": [],
   "source": [
    "# сокращенные операции\n",
    "val_3 += 1  # прибавление 1 к val_3 и запись в val_3. Аналог val_3 = val_3 + 1\n",
    "val_3 -= 1  # вычитание 1 из val_3 и запись в val_3. Аналог val_3 = val_3 - 1\n",
    "val_3 *= 1  # etc ...\n",
    "val_3 /= 1\n",
    "val_3 *= 1\n",
    "val_3 //= 1\n",
    "val_3 **= 1\n",
    "val_3 %= 1"
   ]
  },
  {
   "cell_type": "code",
   "execution_count": 14,
   "metadata": {},
   "outputs": [
    {
     "name": "stdout",
     "output_type": "stream",
     "text": [
      "1 < 2 = True\n",
      "1 > 2 = False\n",
      "1 == 2 = False\n",
      "1 >= 2 = False\n",
      "1 <= 2 = True\n",
      "1 != 2 = True\n"
     ]
    }
   ],
   "source": [
    "# операции сравнения\n",
    "print(val_1, \"<\", val_2, \"=\", val_1 < val_2)\n",
    "print(val_1, \">\", val_2, \"=\",  val_1 > val_2)\n",
    "print(val_1, \"==\", val_2, \"=\", val_1 == val_2)\n",
    "print(val_1, \">=\", val_2, \"=\", val_1 >= val_2)\n",
    "print(val_1, \"<=\", val_2, \"=\", val_1 <= val_2)\n",
    "print(val_1, \"!=\", val_2, \"=\", val_1 != val_2)"
   ]
  },
  {
   "cell_type": "markdown",
   "metadata": {},
   "source": [
    "## операции над строками (string)"
   ]
  },
  {
   "cell_type": "code",
   "execution_count": 15,
   "metadata": {},
   "outputs": [],
   "source": [
    "# Для строк также определены некоторые операции, но имеющие несколько\n",
    "# иной смысл, отдаленно похожий по смыслу на изначальный\n",
    "val_1 = \"left\"\n",
    "val_2 = \"right\""
   ]
  },
  {
   "cell_type": "code",
   "execution_count": 19,
   "metadata": {},
   "outputs": [
    {
     "name": "stdout",
     "output_type": "stream",
     "text": [
      "left + right = leftright\n",
      "\" left \" * 8 = ' left  left  left  left  left  left  left  left '\n"
     ]
    }
   ],
   "source": [
    "print(val_1, \"+\", val_2, \"=\", val_1 + val_2)\n",
    "print('\" ', val_1, ' \" * ', 8, \" = '\", (\" \" + val_1 + \" \") * 8, \"'\", sep='')"
   ]
  },
  {
   "cell_type": "code",
   "execution_count": 20,
   "metadata": {},
   "outputs": [
    {
     "name": "stdout",
     "output_type": "stream",
     "text": [
      "left < right = True\n",
      "left > right = False\n",
      "left == right = False\n",
      "left >= right = False\n",
      "left <= right = True\n",
      "left != right = True\n"
     ]
    }
   ],
   "source": [
    "print(val_1, \"<\", val_2, \"=\", val_1 < val_2)\n",
    "print(val_1, \">\", val_2, \"=\",  val_1 > val_2)\n",
    "print(val_1, \"==\", val_2, \"=\", val_1 == val_2)\n",
    "print(val_1, \">=\", val_2, \"=\", val_1 >= val_2)\n",
    "print(val_1, \"<=\", val_2, \"=\", val_1 <= val_2)\n",
    "print(val_1, \"!=\", val_2, \"=\", val_1 != val_2)"
   ]
  },
  {
   "cell_type": "code",
   "execution_count": null,
   "metadata": {},
   "outputs": [],
   "source": []
  }
 ],
 "metadata": {
  "kernelspec": {
   "display_name": "Python 3",
   "language": "python",
   "name": "python3"
  },
  "language_info": {
   "codemirror_mode": {
    "name": "ipython",
    "version": 3
   },
   "file_extension": ".py",
   "mimetype": "text/x-python",
   "name": "python",
   "nbconvert_exporter": "python",
   "pygments_lexer": "ipython3",
   "version": "3.8.5"
  }
 },
 "nbformat": 4,
 "nbformat_minor": 4
}
