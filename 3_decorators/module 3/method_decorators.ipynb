{
 "cells": [
  {
   "cell_type": "code",
   "execution_count": 1,
   "metadata": {},
   "outputs": [],
   "source": [
    "# func decorators\n",
    "# learning python, 5th edition, chapter 39\n",
    "# https://tproger.ru/translations/demystifying-decorators-in-python/\n",
    "# https://habr.com/ru/post/141411/\n",
    "import time\n",
    "\n",
    "\n",
    "class cls_decorator:\n",
    "    def __init__(self, func):\n",
    "        self.calls = 0\n",
    "        self.stored_func = func\n",
    "        print(\"init\")\n",
    "\n",
    "    def __call__(self, *args, **kwargs):\n",
    "        self.calls += 1\n",
    "        print(\"count:\", self.calls)\n",
    "        return self.stored_func(*args, **kwargs)\n",
    "\n",
    "\n",
    "def my_decorator(func):\n",
    "    def wrapper(*args, **kwargs):\n",
    "        start = time.time()\n",
    "        res = func(*args, **kwargs)\n",
    "        end = time.time()\n",
    "        print(\"time:\", end - start)\n",
    "        return res\n",
    "    return wrapper\n"
   ]
  },
  {
   "cell_type": "code",
   "execution_count": 3,
   "metadata": {},
   "outputs": [
    {
     "name": "stdout",
     "output_type": "stream",
     "text": [
      "my_func(): 11 22\n",
      "time: 1.0002992153167725\n",
      "my_func(): 11 33\n",
      "time: 1.0141279697418213\n"
     ]
    }
   ],
   "source": [
    "@my_decorator\n",
    "# @cls_decorator\n",
    "def my_func(kek, lol):\n",
    "    print(\"my_func():\", kek, lol)\n",
    "    time.sleep(1.0)\n",
    "\n",
    "\n",
    "# my_func = my_decorator(my_func)\n",
    "\n",
    "my_func(11, 22)\n",
    "my_func(11, 33)\n"
   ]
  },
  {
   "cell_type": "code",
   "execution_count": 4,
   "metadata": {},
   "outputs": [
    {
     "name": "stdout",
     "output_type": "stream",
     "text": [
      "before:\n",
      "my_func(): 1 2\n",
      "after\n",
      "time: 0.0009992122650146484\n"
     ]
    }
   ],
   "source": [
    "class csl_dec(object):\n",
    "    @classmethod\n",
    "    def my_dec(cls, decorated):\n",
    "        def wrapper(*args, **kwargs):\n",
    "            start = time.time()\n",
    "            print(\"before:\")\n",
    "            res = decorated(*args, **kwargs)\n",
    "            print(\"after\")\n",
    "            end = time.time()\n",
    "            print(\"time:\", end - start)\n",
    "            return res\n",
    "        return wrapper\n",
    "\n"
   ]
  },
  {
   "cell_type": "code",
   "execution_count": null,
   "metadata": {},
   "outputs": [],
   "source": [
    "class kek:\n",
    "    @csl_dec.my_dec\n",
    "    def keko(self):\n",
    "        print(\"keklo\")\n",
    "\n",
    "\n",
    "@csl_dec.my_dec\n",
    "def ff(kek, lol):\n",
    "    print(\"my_func():\", kek, lol)\n",
    "\n",
    "    \n",
    "ff(1,2)"
   ]
  }
 ],
 "metadata": {
  "kernelspec": {
   "display_name": "Python 3",
   "language": "python",
   "name": "python3"
  },
  "language_info": {
   "codemirror_mode": {
    "name": "ipython",
    "version": 3
   },
   "file_extension": ".py",
   "mimetype": "text/x-python",
   "name": "python",
   "nbconvert_exporter": "python",
   "pygments_lexer": "ipython3",
   "version": "3.8.5"
  }
 },
 "nbformat": 4,
 "nbformat_minor": 4
}
