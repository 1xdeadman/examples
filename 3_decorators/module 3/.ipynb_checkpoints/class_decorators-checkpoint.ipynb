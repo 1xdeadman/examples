{
 "cells": [
  {
   "cell_type": "code",
   "execution_count": null,
   "metadata": {},
   "outputs": [],
   "source": [
    "# class decorators\n",
    "# learning python, 5th edition, chapter 39\n",
    "\n",
    "\n",
    "def my_decorator(cls):\n",
    "    class Wrapper:\n",
    "        def __init__(self, *args):\n",
    "            print(\"Wrapper.init\")\n",
    "            self.wrapped = cls(*args)\n",
    "\n",
    "        def my_move(self):\n",
    "            print(\"Wrapper.my_move\")\n",
    "            return self.wrapped.my_move()\n",
    "    return Wrapper\n"
   ]
  },
  {
   "cell_type": "code",
   "execution_count": null,
   "metadata": {},
   "outputs": [],
   "source": [
    "@my_decorator\n",
    "class C:\n",
    "    def __init__(self, x, y):\n",
    "        print(\"C.__init__\")\n",
    "        self.attr = 'spam'\n",
    "\n",
    "    def my_move(self):\n",
    "        print(\"C.my_move\")\n",
    "        return 1"
   ]
  },
  {
   "cell_type": "code",
   "execution_count": null,
   "metadata": {},
   "outputs": [],
   "source": [
    "x1 = C(6, 7)\n",
    "x2 = C(11, 12)\n",
    "print(x1.attr)\n",
    "print(x2.attr)\n",
    "\n",
    "print(type(x1))\n",
    "print(x1.my_move())"
   ]
  }
 ],
 "metadata": {
  "kernelspec": {
   "display_name": "Python 3",
   "language": "python",
   "name": "python3"
  },
  "language_info": {
   "codemirror_mode": {
    "name": "ipython",
    "version": 3
   },
   "file_extension": ".py",
   "mimetype": "text/x-python",
   "name": "python",
   "nbconvert_exporter": "python",
   "pygments_lexer": "ipython3",
   "version": "3.8.5"
  }
 },
 "nbformat": 4,
 "nbformat_minor": 4
}
