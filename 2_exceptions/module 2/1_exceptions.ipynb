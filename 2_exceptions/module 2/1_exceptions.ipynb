{
 "cells": [
  {
   "cell_type": "code",
   "execution_count": 1,
   "metadata": {},
   "outputs": [],
   "source": [
    "class MyException(Exception):\n",
    "\n",
    "    def __init__(self, message):\n",
    "        self.message = message"
   ]
  },
  {
   "cell_type": "code",
   "execution_count": 8,
   "metadata": {},
   "outputs": [
    {
     "name": "stdout",
     "output_type": "stream",
     "text": [
      "hello world\n",
      "my exception's message\n"
     ]
    }
   ],
   "source": [
    "def func(param):\n",
    "    if type(param) is int:\n",
    "        raise MyException(\"my exception's message\")\n",
    "\n",
    "\n",
    "def test():\n",
    "    try:\n",
    "        func(123)\n",
    "        x = 1\n",
    "        x = 1 + '1'\n",
    "    except TypeError:\n",
    "        print(\"TypeError\")\n",
    "        x = 1\n",
    "    except MyException as ex:\n",
    "        print(ex.message)\n",
    "    except Exception:\n",
    "        print(\"Exception\")\n",
    "\n",
    "print(\"hello world\")\n",
    "test()"
   ]
  },
  {
   "cell_type": "code",
   "execution_count": null,
   "metadata": {},
   "outputs": [],
   "source": []
  }
 ],
 "metadata": {
  "kernelspec": {
   "display_name": "Python 3",
   "language": "python",
   "name": "python3"
  },
  "language_info": {
   "codemirror_mode": {
    "name": "ipython",
    "version": 3
   },
   "file_extension": ".py",
   "mimetype": "text/x-python",
   "name": "python",
   "nbconvert_exporter": "python",
   "pygments_lexer": "ipython3",
   "version": "3.8.5"
  }
 },
 "nbformat": 4,
 "nbformat_minor": 4
}
