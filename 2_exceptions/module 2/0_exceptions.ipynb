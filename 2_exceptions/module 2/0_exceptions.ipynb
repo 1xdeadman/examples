{
 "cells": [
  {
   "cell_type": "code",
   "execution_count": 5,
   "metadata": {},
   "outputs": [
    {
     "name": "stdout",
     "output_type": "stream",
     "text": [
      "input number:qwe\n"
     ]
    }
   ],
   "source": [
    "str_number = input(\"input number:\")"
   ]
  },
  {
   "cell_type": "code",
   "execution_count": 7,
   "metadata": {},
   "outputs": [
    {
     "name": "stdout",
     "output_type": "stream",
     "text": [
      "ValueError: invalid literal for int() with base 10: 'qwe'\n",
      "Завершение блока try...except\n",
      "ok!\n"
     ]
    }
   ],
   "source": [
    "try:\n",
    "    number = int(str_number)\n",
    "    print(\"ok!\")\n",
    "except ValueError as err:\n",
    "    print(\"ValueError:\", err)\n",
    "except TypeError as err:\n",
    "    print(\"TypeError:\", err)\n",
    "except Exception as err:\n",
    "    print(\"Exception:\", err)\n",
    "finally:\n",
    "    print(\"Завершение блока try...except\")\n",
    "print(\"ok!\")"
   ]
  },
  {
   "cell_type": "code",
   "execution_count": 9,
   "metadata": {},
   "outputs": [
    {
     "name": "stdout",
     "output_type": "stream",
     "text": [
      "ValueError: Число не должно быть отрицальным\n"
     ]
    }
   ],
   "source": [
    "try:\n",
    "    number = int(\"-10\")\n",
    "    if number < 0:\n",
    "        raise Exception(\"Число не должно быть отрицальным\")\n",
    "except ValueError as err:\n",
    "    print(\"ValueError:\", err)\n",
    "except Exception as err:\n",
    "    print(\"Exception:\", err)\n"
   ]
  },
  {
   "cell_type": "code",
   "execution_count": null,
   "metadata": {},
   "outputs": [],
   "source": []
  }
 ],
 "metadata": {
  "kernelspec": {
   "display_name": "Python 3",
   "language": "python",
   "name": "python3"
  },
  "language_info": {
   "codemirror_mode": {
    "name": "ipython",
    "version": 3
   },
   "file_extension": ".py",
   "mimetype": "text/x-python",
   "name": "python",
   "nbconvert_exporter": "python",
   "pygments_lexer": "ipython3",
   "version": "3.8.5"
  }
 },
 "nbformat": 4,
 "nbformat_minor": 4
}
